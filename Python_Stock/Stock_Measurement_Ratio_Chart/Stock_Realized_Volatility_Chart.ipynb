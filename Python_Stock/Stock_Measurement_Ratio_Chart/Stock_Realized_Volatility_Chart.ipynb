{
  "cells": [
    {
      "cell_type": "markdown",
      "source": [
        "# Stock Realized Volatility Chart"
      ],
      "metadata": {
        "nteract": {
          "transient": {
            "deleting": false
          }
        }
      }
    },
    {
      "cell_type": "code",
      "source": [
        "# Library\n",
        "import pandas as pd\n",
        "import numpy as np\n",
        "import matplotlib.pyplot as plt\n",
        "import math\n",
        "\n",
        "import warnings\n",
        "warnings.filterwarnings(\"ignore\")\n",
        "\n",
        "import yfinance as yf\n",
        "yf.pdr_override()"
      ],
      "outputs": [],
      "execution_count": 1,
      "metadata": {
        "collapsed": true,
        "jupyter": {
          "source_hidden": false,
          "outputs_hidden": false
        },
        "nteract": {
          "transient": {
            "deleting": false
          }
        },
        "execution": {
          "iopub.status.busy": "2021-01-14T02:41:11.631Z",
          "iopub.execute_input": "2021-01-14T02:41:11.676Z",
          "shell.execute_reply": "2021-01-14T02:41:15.087Z",
          "iopub.status.idle": "2021-01-14T02:41:15.281Z"
        }
      }
    },
    {
      "cell_type": "code",
      "source": [
        "start = '2016-01-01' #input\n",
        "end = '2020-07-01' #input\n",
        "symbol = 'AMD'"
      ],
      "outputs": [],
      "execution_count": 2,
      "metadata": {
        "collapsed": true,
        "jupyter": {
          "source_hidden": false,
          "outputs_hidden": false
        },
        "nteract": {
          "transient": {
            "deleting": false
          }
        },
        "execution": {
          "iopub.status.busy": "2021-01-14T02:41:15.310Z",
          "iopub.execute_input": "2021-01-14T02:41:15.330Z",
          "iopub.status.idle": "2021-01-14T02:41:15.372Z",
          "shell.execute_reply": "2021-01-14T02:41:15.138Z"
        }
      }
    },
    {
      "cell_type": "code",
      "source": [
        "df = yf.download(\"AMD\", start, end)['Adj Close']"
      ],
      "outputs": [
        {
          "output_type": "stream",
          "name": "stdout",
          "text": [
            "[*********************100%***********************]  1 of 1 completed\n"
          ]
        }
      ],
      "execution_count": 3,
      "metadata": {
        "collapsed": true,
        "jupyter": {
          "source_hidden": false,
          "outputs_hidden": false
        },
        "nteract": {
          "transient": {
            "deleting": false
          }
        },
        "execution": {
          "iopub.status.busy": "2021-01-14T02:41:15.421Z",
          "iopub.execute_input": "2021-01-14T02:41:15.442Z",
          "iopub.status.idle": "2021-01-14T02:41:17.165Z",
          "shell.execute_reply": "2021-01-14T02:41:17.312Z"
        }
      }
    },
    {
      "cell_type": "code",
      "source": [
        "def realized_volatility(df):\n",
        "    rv = np.sqrt(np.sum(df**2))\n",
        "    return rv"
      ],
      "outputs": [],
      "execution_count": 4,
      "metadata": {
        "collapsed": true,
        "jupyter": {
          "source_hidden": false,
          "outputs_hidden": false
        },
        "nteract": {
          "transient": {
            "deleting": false
          }
        },
        "execution": {
          "iopub.status.busy": "2021-01-14T02:41:17.184Z",
          "iopub.execute_input": "2021-01-14T02:41:17.196Z",
          "iopub.status.idle": "2021-01-14T02:41:17.218Z",
          "shell.execute_reply": "2021-01-14T02:41:17.325Z"
        }
      }
    },
    {
      "cell_type": "code",
      "source": [
        "# Compute the running Tail ratio\n",
        "running = [realized_volatility(df[i-90:i]) for i in range(90, len(df))]\n",
        "\n",
        "# Plot running Tail ratio up to 100 days before the end of the data set\n",
        "_, ax1 = plt.subplots(figsize=(12,8))\n",
        "ax1.plot(range(90, len(df)-100), running[:-100])\n",
        "ticks = ax1.get_xticks()\n",
        "ax1.set_xticklabels([df.index[int(i)].date() for i in ticks[:-1]]) # Label x-axis with dates\n",
        "plt.title(symbol + ' Realized Volatility')\n",
        "plt.xlabel('Date')\n",
        "plt.ylabel('Realized Volatility')"
      ],
      "outputs": [
        {
          "output_type": "execute_result",
          "execution_count": 5,
          "data": {
            "text/plain": "Text(0, 0.5, 'Realized Volatility')"
          },
          "metadata": {}
        },
        {
          "output_type": "display_data",
          "data": {
            "text/plain": "<Figure size 864x576 with 1 Axes>",
            "image/png": "[encoded data removed]"
          },
          "metadata": {
            "needs_background": "light"
          }
        }
      ],
      "execution_count": 5,
      "metadata": {
        "collapsed": true,
        "jupyter": {
          "source_hidden": false,
          "outputs_hidden": false
        },
        "nteract": {
          "transient": {
            "deleting": false
          }
        },
        "execution": {
          "iopub.status.busy": "2021-01-14T02:41:17.256Z",
          "iopub.execute_input": "2021-01-14T02:41:17.271Z",
          "iopub.status.idle": "2021-01-14T02:41:20.135Z",
          "shell.execute_reply": "2021-01-14T02:41:20.240Z"
        }
      }
    },
    {
      "cell_type": "code",
      "source": [
        "realized_volatility(df)"
      ],
      "outputs": [
        {
          "output_type": "execute_result",
          "execution_count": 6,
          "data": {
            "text/plain": "830.1847493471693"
          },
          "metadata": {}
        }
      ],
      "execution_count": 6,
      "metadata": {
        "collapsed": true,
        "jupyter": {
          "source_hidden": false,
          "outputs_hidden": false
        },
        "nteract": {
          "transient": {
            "deleting": false
          }
        },
        "execution": {
          "iopub.status.busy": "2021-01-14T02:41:20.160Z",
          "iopub.execute_input": "2021-01-14T02:41:20.172Z",
          "iopub.status.idle": "2021-01-14T02:41:20.204Z",
          "shell.execute_reply": "2021-01-14T02:41:20.250Z"
        }
      }
    }
  ],
  "metadata": {
    "kernel_info": {
      "name": "python3"
    },
    "language_info": {
      "name": "python",
      "version": "3.6.5",
      "mimetype": "text/x-python",
      "codemirror_mode": {
        "name": "ipython",
        "version": 3
      },
      "pygments_lexer": "ipython3",
      "nbconvert_exporter": "python",
      "file_extension": ".py"
    },
    "kernelspec": {
      "argv": [
        "C:\\Users\\Tin Hang\\Anaconda3\\envs\\py35\\python.exe",
        "-m",
        "ipykernel_launcher",
        "-f",
        "{connection_file}"
      ],
      "display_name": "Python 3",
      "language": "python",
      "name": "python3"
    },
    "nteract": {
      "version": "0.27.0"
    }
  },
  "nbformat": 4,
  "nbformat_minor": 0
}