{
  "cells": [
    {
      "cell_type": "markdown",
      "source": [
        "# Stock Tail Ratio Chart"
      ],
      "metadata": {
        "nteract": {
          "transient": {
            "deleting": false
          }
        }
      }
    },
    {
      "cell_type": "code",
      "source": [
        "# Library\n",
        "import pandas as pd\n",
        "import numpy as np\n",
        "import matplotlib.pyplot as plt\n",
        "import math\n",
        "\n",
        "import warnings\n",
        "warnings.filterwarnings(\"ignore\")\n",
        "\n",
        "from pandas_datareader import data as pdr\n",
        "import yfinance as yf\n",
        "yf.pdr_override()"
      ],
      "outputs": [],
      "execution_count": 1,
      "metadata": {
        "collapsed": true,
        "jupyter": {
          "source_hidden": false,
          "outputs_hidden": false
        },
        "nteract": {
          "transient": {
            "deleting": false
          }
        },
        "execution": {
          "iopub.status.busy": "2020-10-24T01:22:37.046Z",
          "iopub.execute_input": "2020-10-24T01:22:37.050Z",
          "shell.execute_reply": "2020-10-24T01:22:38.079Z",
          "iopub.status.idle": "2020-10-24T01:22:38.038Z"
        }
      }
    },
    {
      "cell_type": "code",
      "source": [
        "start = '2016-01-01' #input\n",
        "end = '2020-07-01' #input\n",
        "symbol = 'AMD'"
      ],
      "outputs": [],
      "execution_count": 2,
      "metadata": {
        "collapsed": true,
        "jupyter": {
          "source_hidden": false,
          "outputs_hidden": false
        },
        "nteract": {
          "transient": {
            "deleting": false
          }
        },
        "execution": {
          "iopub.status.busy": "2020-10-24T01:22:38.045Z",
          "iopub.execute_input": "2020-10-24T01:22:38.050Z",
          "iopub.status.idle": "2020-10-24T01:22:38.057Z",
          "shell.execute_reply": "2020-10-24T01:22:38.081Z"
        }
      }
    },
    {
      "cell_type": "code",
      "source": [
        "df = yf.download(\"AMD\", start, end)"
      ],
      "outputs": [
        {
          "output_type": "stream",
          "name": "stdout",
          "text": [
            "[*********************100%***********************]  1 of 1 completed\n"
          ]
        }
      ],
      "execution_count": 3,
      "metadata": {
        "collapsed": true,
        "jupyter": {
          "source_hidden": false,
          "outputs_hidden": false
        },
        "nteract": {
          "transient": {
            "deleting": false
          }
        },
        "execution": {
          "iopub.status.busy": "2020-10-24T01:22:38.064Z",
          "iopub.execute_input": "2020-10-24T01:22:38.069Z",
          "iopub.status.idle": "2020-10-24T01:22:39.273Z",
          "shell.execute_reply": "2020-10-24T01:22:39.313Z"
        }
      }
    },
    {
      "cell_type": "code",
      "source": [
        "returns = df['Adj Close'].pct_change()[1:].dropna()"
      ],
      "outputs": [],
      "execution_count": 4,
      "metadata": {
        "collapsed": true,
        "jupyter": {
          "source_hidden": false,
          "outputs_hidden": false
        },
        "nteract": {
          "transient": {
            "deleting": false
          }
        },
        "execution": {
          "iopub.status.busy": "2020-10-24T01:22:39.282Z",
          "iopub.execute_input": "2020-10-24T01:22:39.286Z",
          "iopub.status.idle": "2020-10-24T01:22:39.293Z",
          "shell.execute_reply": "2020-10-24T01:22:40.362Z"
        }
      }
    },
    {
      "cell_type": "code",
      "source": [
        "# risk free\n",
        "rf = yf.download('BIL', start=start, end=end)['Adj Close'].pct_change()[1:]"
      ],
      "outputs": [
        {
          "output_type": "stream",
          "name": "stdout",
          "text": [
            "[*********************100%***********************]  1 of 1 completed\n"
          ]
        }
      ],
      "execution_count": 5,
      "metadata": {
        "collapsed": true,
        "jupyter": {
          "source_hidden": false,
          "outputs_hidden": false
        },
        "nteract": {
          "transient": {
            "deleting": false
          }
        },
        "execution": {
          "iopub.status.busy": "2020-10-24T01:22:39.299Z",
          "iopub.execute_input": "2020-10-24T01:22:39.302Z",
          "iopub.status.idle": "2020-10-24T01:22:39.495Z",
          "shell.execute_reply": "2020-10-24T01:22:40.366Z"
        }
      }
    },
    {
      "cell_type": "code",
      "source": [
        "def tail_ratio(stock_returns):\n",
        "    tailRatio = np.percentile(stock_returns, 95) / abs(np.percentile(stock_returns, 5))\n",
        "    return tailRatio"
      ],
      "outputs": [],
      "execution_count": 6,
      "metadata": {
        "collapsed": true,
        "jupyter": {
          "source_hidden": false,
          "outputs_hidden": false
        },
        "nteract": {
          "transient": {
            "deleting": false
          }
        },
        "execution": {
          "iopub.status.busy": "2020-10-24T01:22:39.502Z",
          "iopub.execute_input": "2020-10-24T01:22:39.507Z",
          "iopub.status.idle": "2020-10-24T01:22:39.516Z",
          "shell.execute_reply": "2020-10-24T01:22:40.369Z"
        }
      }
    },
    {
      "cell_type": "code",
      "source": [
        "# Compute the running Tail ratio\n",
        "running = [tail_ratio(returns[i-90:i]) for i in range(90, len(returns))]\n",
        "\n",
        "# Plot running Tail ratio up to 100 days before the end of the data set\n",
        "_, ax1 = plt.subplots(figsize=(12,8))\n",
        "ax1.plot(range(90, len(returns)-100), running[:-100])\n",
        "ticks = ax1.get_xticks()\n",
        "ax1.set_xticklabels([df['Adj Close'].index[int(i)].date() for i in ticks[:-1]]) # Label x-axis with dates\n",
        "plt.title(symbol + ' Tail Ratio')\n",
        "plt.xlabel('Date')\n",
        "plt.ylabel('Tail Ratio')"
      ],
      "outputs": [
        {
          "output_type": "execute_result",
          "execution_count": 7,
          "data": {
            "text/plain": "Text(0, 0.5, 'Tail Ratio')"
          },
          "metadata": {}
        },
        {
          "output_type": "display_data",
          "data": {
            "text/plain": "<Figure size 864x576 with 1 Axes>",
            "image/png": "[encoded data removed]"
          },
          "metadata": {
            "needs_background": "light"
          }
        }
      ],
      "execution_count": 7,
      "metadata": {
        "collapsed": true,
        "jupyter": {
          "source_hidden": false,
          "outputs_hidden": false
        },
        "nteract": {
          "transient": {
            "deleting": false
          }
        },
        "execution": {
          "iopub.status.busy": "2020-10-24T01:22:39.601Z",
          "iopub.execute_input": "2020-10-24T01:22:39.605Z",
          "iopub.status.idle": "2020-10-24T01:22:40.325Z",
          "shell.execute_reply": "2020-10-24T01:22:40.372Z"
        }
      }
    },
    {
      "cell_type": "code",
      "source": [
        "tail_ratio(returns)"
      ],
      "outputs": [
        {
          "output_type": "execute_result",
          "execution_count": 8,
          "data": {
            "text/plain": "1.2047832234037397"
          },
          "metadata": {}
        }
      ],
      "execution_count": 8,
      "metadata": {
        "collapsed": true,
        "jupyter": {
          "source_hidden": false,
          "outputs_hidden": false
        },
        "nteract": {
          "transient": {
            "deleting": false
          }
        },
        "execution": {
          "iopub.status.busy": "2020-10-24T01:22:40.335Z",
          "iopub.execute_input": "2020-10-24T01:22:40.339Z",
          "iopub.status.idle": "2020-10-24T01:22:40.349Z",
          "shell.execute_reply": "2020-10-24T01:22:40.374Z"
        }
      }
    }
  ],
  "metadata": {
    "kernel_info": {
      "name": "python3"
    },
    "language_info": {
      "mimetype": "text/x-python",
      "version": "3.5.5",
      "nbconvert_exporter": "python",
      "file_extension": ".py",
      "name": "python",
      "codemirror_mode": {
        "name": "ipython",
        "version": 3
      },
      "pygments_lexer": "ipython3"
    },
    "kernelspec": {
      "argv": [
        "C:\\Users\\Tin Hang\\Anaconda3\\envs\\py35\\python.exe",
        "-m",
        "ipykernel_launcher",
        "-f",
        "{connection_file}"
      ],
      "display_name": "Python 3",
      "language": "python",
      "name": "python3"
    },
    "nteract": {
      "version": "0.25.1"
    }
  },
  "nbformat": 4,
  "nbformat_minor": 0
}