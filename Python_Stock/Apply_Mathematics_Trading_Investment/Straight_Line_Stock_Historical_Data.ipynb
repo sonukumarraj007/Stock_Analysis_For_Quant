{
  "cells": [
    {
      "cell_type": "markdown",
      "source": [
        "# Straight Line of Stock Histocial Data"
      ],
      "metadata": {
        "nteract": {
          "transient": {
            "deleting": false
          }
        }
      }
    },
    {
      "cell_type": "code",
      "source": [
        "import numpy as np\n",
        "import matplotlib.pyplot as plt\n",
        "import seaborn as sns\n",
        "import pandas as pd\n",
        "\n",
        "import warnings\n",
        "warnings.filterwarnings(\"ignore\") \n",
        "\n",
        "# yfinance is used to fetch data \n",
        "import yfinance as yf\n",
        "yf.pdr_override()"
      ],
      "outputs": [],
      "execution_count": 1,
      "metadata": {
        "collapsed": true,
        "jupyter": {
          "source_hidden": false,
          "outputs_hidden": false
        },
        "nteract": {
          "transient": {
            "deleting": false
          }
        },
        "execution": {
          "iopub.status.busy": "2020-09-29T01:34:14.149Z",
          "iopub.execute_input": "2020-09-29T01:34:14.161Z",
          "iopub.status.idle": "2020-09-29T01:34:15.916Z",
          "shell.execute_reply": "2020-09-29T01:34:17.696Z"
        }
      }
    },
    {
      "cell_type": "code",
      "source": [
        "# input\n",
        "symbol = 'AMD'\n",
        "start = '2017-01-01'\n",
        "end = '2019-01-01'\n",
        "\n",
        "# Read data \n",
        "dataset = yf.download(symbol,start,end)['Adj Close']\n",
        "\n",
        "# View Columns\n",
        "dataset.head()"
      ],
      "outputs": [
        {
          "output_type": "stream",
          "name": "stdout",
          "text": [
            "[*********************100%***********************]  1 of 1 completed\n"
          ]
        },
        {
          "output_type": "execute_result",
          "execution_count": 2,
          "data": {
            "text/plain": "Date\n2017-01-03    11.43\n2017-01-04    11.43\n2017-01-05    11.24\n2017-01-06    11.32\n2017-01-09    11.49\nName: Adj Close, dtype: float64"
          },
          "metadata": {}
        }
      ],
      "execution_count": 2,
      "metadata": {
        "collapsed": true,
        "jupyter": {
          "source_hidden": false,
          "outputs_hidden": false
        },
        "nteract": {
          "transient": {
            "deleting": false
          }
        },
        "execution": {
          "iopub.status.busy": "2020-09-29T01:34:15.924Z",
          "iopub.execute_input": "2020-09-29T01:34:15.932Z",
          "iopub.status.idle": "2020-09-29T01:34:17.261Z",
          "shell.execute_reply": "2020-09-29T01:34:17.705Z"
        }
      }
    },
    {
      "cell_type": "code",
      "source": [
        "df = dataset.reset_index()"
      ],
      "outputs": [],
      "execution_count": 3,
      "metadata": {
        "collapsed": true,
        "jupyter": {
          "source_hidden": false,
          "outputs_hidden": false
        },
        "nteract": {
          "transient": {
            "deleting": false
          }
        },
        "execution": {
          "iopub.status.busy": "2020-09-29T01:34:17.284Z",
          "iopub.execute_input": "2020-09-29T01:34:17.297Z",
          "iopub.status.idle": "2020-09-29T01:34:17.325Z",
          "shell.execute_reply": "2020-09-29T01:34:17.728Z"
        }
      }
    },
    {
      "cell_type": "code",
      "source": [
        "df.head()"
      ],
      "outputs": [
        {
          "output_type": "execute_result",
          "execution_count": 4,
          "data": {
            "text/plain": "        Date  Adj Close\n0 2017-01-03      11.43\n1 2017-01-04      11.43\n2 2017-01-05      11.24\n3 2017-01-06      11.32\n4 2017-01-09      11.49",
            "text/html": "<div>\n<style scoped>\n    .dataframe tbody tr th:only-of-type {\n        vertical-align: middle;\n    }\n\n    .dataframe tbody tr th {\n        vertical-align: top;\n    }\n\n    .dataframe thead th {\n        text-align: right;\n    }\n</style>\n<table border=\"1\" class=\"dataframe\">\n  <thead>\n    <tr style=\"text-align: right;\">\n      <th></th>\n      <th>Date</th>\n      <th>Adj Close</th>\n    </tr>\n  </thead>\n  <tbody>\n    <tr>\n      <th>0</th>\n      <td>2017-01-03</td>\n      <td>11.43</td>\n    </tr>\n    <tr>\n      <th>1</th>\n      <td>2017-01-04</td>\n      <td>11.43</td>\n    </tr>\n    <tr>\n      <th>2</th>\n      <td>2017-01-05</td>\n      <td>11.24</td>\n    </tr>\n    <tr>\n      <th>3</th>\n      <td>2017-01-06</td>\n      <td>11.32</td>\n    </tr>\n    <tr>\n      <th>4</th>\n      <td>2017-01-09</td>\n      <td>11.49</td>\n    </tr>\n  </tbody>\n</table>\n</div>"
          },
          "metadata": {}
        }
      ],
      "execution_count": 4,
      "metadata": {
        "collapsed": true,
        "jupyter": {
          "source_hidden": false,
          "outputs_hidden": false
        },
        "nteract": {
          "transient": {
            "deleting": false
          }
        },
        "execution": {
          "iopub.status.busy": "2020-09-29T01:34:17.353Z",
          "iopub.execute_input": "2020-09-29T01:34:17.370Z",
          "iopub.status.idle": "2020-09-29T01:34:17.409Z",
          "shell.execute_reply": "2020-09-29T01:34:18.114Z"
        }
      }
    },
    {
      "cell_type": "code",
      "source": [
        "df.tail()"
      ],
      "outputs": [
        {
          "output_type": "execute_result",
          "execution_count": 5,
          "data": {
            "text/plain": "          Date  Adj Close\n497 2018-12-24  16.650000\n498 2018-12-26  17.900000\n499 2018-12-27  17.490000\n500 2018-12-28  17.820000\n501 2018-12-31  18.459999",
            "text/html": "<div>\n<style scoped>\n    .dataframe tbody tr th:only-of-type {\n        vertical-align: middle;\n    }\n\n    .dataframe tbody tr th {\n        vertical-align: top;\n    }\n\n    .dataframe thead th {\n        text-align: right;\n    }\n</style>\n<table border=\"1\" class=\"dataframe\">\n  <thead>\n    <tr style=\"text-align: right;\">\n      <th></th>\n      <th>Date</th>\n      <th>Adj Close</th>\n    </tr>\n  </thead>\n  <tbody>\n    <tr>\n      <th>497</th>\n      <td>2018-12-24</td>\n      <td>16.650000</td>\n    </tr>\n    <tr>\n      <th>498</th>\n      <td>2018-12-26</td>\n      <td>17.900000</td>\n    </tr>\n    <tr>\n      <th>499</th>\n      <td>2018-12-27</td>\n      <td>17.490000</td>\n    </tr>\n    <tr>\n      <th>500</th>\n      <td>2018-12-28</td>\n      <td>17.820000</td>\n    </tr>\n    <tr>\n      <th>501</th>\n      <td>2018-12-31</td>\n      <td>18.459999</td>\n    </tr>\n  </tbody>\n</table>\n</div>"
          },
          "metadata": {}
        }
      ],
      "execution_count": 5,
      "metadata": {
        "collapsed": true,
        "jupyter": {
          "source_hidden": false,
          "outputs_hidden": false
        },
        "nteract": {
          "transient": {
            "deleting": false
          }
        },
        "execution": {
          "iopub.status.busy": "2020-09-29T01:34:17.424Z",
          "iopub.execute_input": "2020-09-29T01:34:17.433Z",
          "iopub.status.idle": "2020-09-29T01:34:17.452Z",
          "shell.execute_reply": "2020-09-29T01:34:18.123Z"
        }
      }
    },
    {
      "cell_type": "code",
      "source": [
        "max_p = df['Adj Close'].max()\n",
        "min_p = df['Adj Close'].min()\n",
        "avg_p = df['Adj Close'].mean()"
      ],
      "outputs": [],
      "execution_count": 6,
      "metadata": {
        "collapsed": true,
        "jupyter": {
          "source_hidden": false,
          "outputs_hidden": false
        },
        "nteract": {
          "transient": {
            "deleting": false
          }
        },
        "execution": {
          "iopub.status.busy": "2020-09-29T01:34:17.467Z",
          "iopub.execute_input": "2020-09-29T01:34:17.479Z",
          "iopub.status.idle": "2020-09-29T01:34:17.497Z",
          "shell.execute_reply": "2020-09-29T01:34:18.133Z"
        }
      }
    },
    {
      "cell_type": "code",
      "source": [
        "data = df.drop(['Date'], axis=1)\n",
        "data"
      ],
      "outputs": [
        {
          "output_type": "execute_result",
          "execution_count": 16,
          "data": {
            "text/plain": "     Adj Close\n0    11.430000\n1    11.430000\n2    11.240000\n3    11.320000\n4    11.490000\n5    11.440000\n6    11.200000\n7    10.760000\n8    10.580000\n9     9.820000\n10    9.880000\n11    9.770000\n12    9.750000\n13    9.910000\n14   10.440000\n15   10.350000\n16   10.520000\n17   10.670000\n18   10.610000\n19   10.370000\n20   12.060000\n21   12.280000\n22   12.240000\n23   13.630000\n24   13.290000\n25   13.560000\n26   13.420000\n27   13.580000\n28   13.490000\n29   13.260000\n..         ...\n472  21.490000\n473  20.660000\n474  19.110001\n475  19.209999\n476  18.730000\n477  19.379999\n478  20.080000\n479  21.049999\n480  21.340000\n481  21.430000\n482  21.299999\n483  23.709999\n484  21.120001\n485  21.299999\n486  19.459999\n487  19.990000\n488  19.980000\n489  20.480000\n490  19.860001\n491  19.900000\n492  18.830000\n493  19.500000\n494  18.160000\n495  17.940001\n496  16.930000\n497  16.650000\n498  17.900000\n499  17.490000\n500  17.820000\n501  18.459999\n\n[502 rows x 1 columns]",
            "text/html": "<div>\n<style scoped>\n    .dataframe tbody tr th:only-of-type {\n        vertical-align: middle;\n    }\n\n    .dataframe tbody tr th {\n        vertical-align: top;\n    }\n\n    .dataframe thead th {\n        text-align: right;\n    }\n</style>\n<table border=\"1\" class=\"dataframe\">\n  <thead>\n    <tr style=\"text-align: right;\">\n      <th></th>\n      <th>Adj Close</th>\n    </tr>\n  </thead>\n  <tbody>\n    <tr>\n      <th>0</th>\n      <td>11.430000</td>\n    </tr>\n    <tr>\n      <th>1</th>\n      <td>11.430000</td>\n    </tr>\n    <tr>\n      <th>2</th>\n      <td>11.240000</td>\n    </tr>\n    <tr>\n      <th>3</th>\n      <td>11.320000</td>\n    </tr>\n    <tr>\n      <th>4</th>\n      <td>11.490000</td>\n    </tr>\n    <tr>\n      <th>5</th>\n      <td>11.440000</td>\n    </tr>\n    <tr>\n      <th>6</th>\n      <td>11.200000</td>\n    </tr>\n    <tr>\n      <th>7</th>\n      <td>10.760000</td>\n    </tr>\n    <tr>\n      <th>8</th>\n      <td>10.580000</td>\n    </tr>\n    <tr>\n      <th>9</th>\n      <td>9.820000</td>\n    </tr>\n    <tr>\n      <th>10</th>\n      <td>9.880000</td>\n    </tr>\n    <tr>\n      <th>11</th>\n      <td>9.770000</td>\n    </tr>\n    <tr>\n      <th>12</th>\n      <td>9.750000</td>\n    </tr>\n    <tr>\n      <th>13</th>\n      <td>9.910000</td>\n    </tr>\n    <tr>\n      <th>14</th>\n      <td>10.440000</td>\n    </tr>\n    <tr>\n      <th>15</th>\n      <td>10.350000</td>\n    </tr>\n    <tr>\n      <th>16</th>\n      <td>10.520000</td>\n    </tr>\n    <tr>\n      <th>17</th>\n      <td>10.670000</td>\n    </tr>\n    <tr>\n      <th>18</th>\n      <td>10.610000</td>\n    </tr>\n    <tr>\n      <th>19</th>\n      <td>10.370000</td>\n    </tr>\n    <tr>\n      <th>20</th>\n      <td>12.060000</td>\n    </tr>\n    <tr>\n      <th>21</th>\n      <td>12.280000</td>\n    </tr>\n    <tr>\n      <th>22</th>\n      <td>12.240000</td>\n    </tr>\n    <tr>\n      <th>23</th>\n      <td>13.630000</td>\n    </tr>\n    <tr>\n      <th>24</th>\n      <td>13.290000</td>\n    </tr>\n    <tr>\n      <th>25</th>\n      <td>13.560000</td>\n    </tr>\n    <tr>\n      <th>26</th>\n      <td>13.420000</td>\n    </tr>\n    <tr>\n      <th>27</th>\n      <td>13.580000</td>\n    </tr>\n    <tr>\n      <th>28</th>\n      <td>13.490000</td>\n    </tr>\n    <tr>\n      <th>29</th>\n      <td>13.260000</td>\n    </tr>\n    <tr>\n      <th>...</th>\n      <td>...</td>\n    </tr>\n    <tr>\n      <th>472</th>\n      <td>21.490000</td>\n    </tr>\n    <tr>\n      <th>473</th>\n      <td>20.660000</td>\n    </tr>\n    <tr>\n      <th>474</th>\n      <td>19.110001</td>\n    </tr>\n    <tr>\n      <th>475</th>\n      <td>19.209999</td>\n    </tr>\n    <tr>\n      <th>476</th>\n      <td>18.730000</td>\n    </tr>\n    <tr>\n      <th>477</th>\n      <td>19.379999</td>\n    </tr>\n    <tr>\n      <th>478</th>\n      <td>20.080000</td>\n    </tr>\n    <tr>\n      <th>479</th>\n      <td>21.049999</td>\n    </tr>\n    <tr>\n      <th>480</th>\n      <td>21.340000</td>\n    </tr>\n    <tr>\n      <th>481</th>\n      <td>21.430000</td>\n    </tr>\n    <tr>\n      <th>482</th>\n      <td>21.299999</td>\n    </tr>\n    <tr>\n      <th>483</th>\n      <td>23.709999</td>\n    </tr>\n    <tr>\n      <th>484</th>\n      <td>21.120001</td>\n    </tr>\n    <tr>\n      <th>485</th>\n      <td>21.299999</td>\n    </tr>\n    <tr>\n      <th>486</th>\n      <td>19.459999</td>\n    </tr>\n    <tr>\n      <th>487</th>\n      <td>19.990000</td>\n    </tr>\n    <tr>\n      <th>488</th>\n      <td>19.980000</td>\n    </tr>\n    <tr>\n      <th>489</th>\n      <td>20.480000</td>\n    </tr>\n    <tr>\n      <th>490</th>\n      <td>19.860001</td>\n    </tr>\n    <tr>\n      <th>491</th>\n      <td>19.900000</td>\n    </tr>\n    <tr>\n      <th>492</th>\n      <td>18.830000</td>\n    </tr>\n    <tr>\n      <th>493</th>\n      <td>19.500000</td>\n    </tr>\n    <tr>\n      <th>494</th>\n      <td>18.160000</td>\n    </tr>\n    <tr>\n      <th>495</th>\n      <td>17.940001</td>\n    </tr>\n    <tr>\n      <th>496</th>\n      <td>16.930000</td>\n    </tr>\n    <tr>\n      <th>497</th>\n      <td>16.650000</td>\n    </tr>\n    <tr>\n      <th>498</th>\n      <td>17.900000</td>\n    </tr>\n    <tr>\n      <th>499</th>\n      <td>17.490000</td>\n    </tr>\n    <tr>\n      <th>500</th>\n      <td>17.820000</td>\n    </tr>\n    <tr>\n      <th>501</th>\n      <td>18.459999</td>\n    </tr>\n  </tbody>\n</table>\n<p>502 rows × 1 columns</p>\n</div>"
          },
          "metadata": {}
        }
      ],
      "execution_count": 16,
      "metadata": {
        "collapsed": true,
        "jupyter": {
          "source_hidden": false,
          "outputs_hidden": false
        },
        "nteract": {
          "transient": {
            "deleting": false
          }
        },
        "execution": {
          "iopub.status.busy": "2020-09-29T01:35:48.310Z",
          "iopub.execute_input": "2020-09-29T01:35:48.339Z",
          "iopub.status.idle": "2020-09-29T01:35:48.364Z",
          "shell.execute_reply": "2020-09-29T01:35:48.374Z"
        }
      }
    },
    {
      "cell_type": "code",
      "source": [
        "data = data.reset_index()"
      ],
      "outputs": [],
      "execution_count": 17,
      "metadata": {
        "collapsed": true,
        "jupyter": {
          "source_hidden": false,
          "outputs_hidden": false
        },
        "nteract": {
          "transient": {
            "deleting": false
          }
        },
        "execution": {
          "iopub.status.busy": "2020-09-29T01:36:00.477Z",
          "iopub.execute_input": "2020-09-29T01:36:00.486Z",
          "iopub.status.idle": "2020-09-29T01:36:00.501Z",
          "shell.execute_reply": "2020-09-29T01:36:00.509Z"
        }
      }
    },
    {
      "cell_type": "code",
      "source": [
        "data.as_matrix()"
      ],
      "outputs": [
        {
          "output_type": "execute_result",
          "execution_count": 18,
          "data": {
            "text/plain": "array([[  0.        ,  11.43000031],\n       [  1.        ,  11.43000031],\n       [  2.        ,  11.23999977],\n       ...,\n       [499.        ,  17.48999977],\n       [500.        ,  17.81999969],\n       [501.        ,  18.45999908]])"
          },
          "metadata": {}
        }
      ],
      "execution_count": 18,
      "metadata": {
        "collapsed": true,
        "jupyter": {
          "source_hidden": false,
          "outputs_hidden": false
        },
        "nteract": {
          "transient": {
            "deleting": false
          }
        },
        "execution": {
          "iopub.status.busy": "2020-09-29T01:36:07.919Z",
          "iopub.execute_input": "2020-09-29T01:36:07.924Z",
          "iopub.status.idle": "2020-09-29T01:36:07.941Z",
          "shell.execute_reply": "2020-09-29T01:36:07.949Z"
        }
      }
    },
    {
      "cell_type": "code",
      "source": [
        "from numpy import ones,vstack\n",
        "from numpy.linalg import lstsq"
      ],
      "outputs": [],
      "execution_count": 8,
      "metadata": {
        "collapsed": true,
        "jupyter": {
          "source_hidden": false,
          "outputs_hidden": false
        },
        "nteract": {
          "transient": {
            "deleting": false
          }
        },
        "execution": {
          "iopub.status.busy": "2020-09-29T01:34:17.570Z",
          "iopub.execute_input": "2020-09-29T01:34:17.581Z",
          "iopub.status.idle": "2020-09-29T01:34:17.598Z",
          "shell.execute_reply": "2020-09-29T01:34:18.148Z"
        }
      }
    },
    {
      "cell_type": "code",
      "source": [
        "points = data.as_matrix()"
      ],
      "outputs": [],
      "execution_count": 19,
      "metadata": {
        "collapsed": true,
        "jupyter": {
          "source_hidden": false,
          "outputs_hidden": false
        },
        "nteract": {
          "transient": {
            "deleting": false
          }
        },
        "execution": {
          "iopub.status.busy": "2020-09-29T01:37:18.932Z",
          "iopub.execute_input": "2020-09-29T01:37:18.943Z",
          "iopub.status.idle": "2020-09-29T01:37:18.958Z",
          "shell.execute_reply": "2020-09-29T01:37:18.967Z"
        }
      }
    },
    {
      "cell_type": "code",
      "source": [
        "x_coords, y_coords = zip(*points)\n",
        "A = vstack([x_coords,ones(len(x_coords))]).T\n",
        "m, c = lstsq(A, y_coords)[0]\n"
      ],
      "outputs": [],
      "execution_count": 20,
      "metadata": {
        "collapsed": true,
        "jupyter": {
          "source_hidden": false,
          "outputs_hidden": false
        },
        "nteract": {
          "transient": {
            "deleting": false
          }
        },
        "execution": {
          "iopub.status.busy": "2020-09-29T01:37:22.189Z",
          "iopub.execute_input": "2020-09-29T01:37:22.197Z",
          "iopub.status.idle": "2020-09-29T01:37:22.209Z",
          "shell.execute_reply": "2020-09-29T01:37:22.216Z"
        }
      }
    },
    {
      "cell_type": "code",
      "source": [
        "print(\"Line Equation is y = {m}x + {c}\".format(m=m,c=c))\n"
      ],
      "outputs": [
        {
          "output_type": "stream",
          "name": "stdout",
          "text": [
            "Line Equation is y = 0.021718614923358824x + 9.372574584656498\n"
          ]
        }
      ],
      "execution_count": 21,
      "metadata": {
        "collapsed": true,
        "jupyter": {
          "source_hidden": false,
          "outputs_hidden": false
        },
        "nteract": {
          "transient": {
            "deleting": false
          }
        },
        "execution": {
          "iopub.status.busy": "2020-09-29T01:37:23.739Z",
          "iopub.execute_input": "2020-09-29T01:37:23.748Z",
          "iopub.status.idle": "2020-09-29T01:37:23.762Z",
          "shell.execute_reply": "2020-09-29T01:37:23.771Z"
        }
      }
    },
    {
      "cell_type": "code",
      "source": [
        "equation_of_line = print(\"y = {m}x + {c}\".format(m=m,c=c))\n"
      ],
      "outputs": [
        {
          "output_type": "stream",
          "name": "stdout",
          "text": [
            "y = 0.021718614923358824x + 9.372574584656498\n"
          ]
        }
      ],
      "execution_count": 25,
      "metadata": {
        "collapsed": true,
        "jupyter": {
          "source_hidden": false,
          "outputs_hidden": false
        },
        "nteract": {
          "transient": {
            "deleting": false
          }
        },
        "execution": {
          "iopub.status.busy": "2020-09-29T01:46:07.644Z",
          "iopub.execute_input": "2020-09-29T01:46:07.650Z",
          "iopub.status.idle": "2020-09-29T01:46:07.725Z",
          "shell.execute_reply": "2020-09-29T01:46:07.731Z"
        }
      }
    },
    {
      "cell_type": "code",
      "source": [
        "plt.figure(figsize=(16,8))\n",
        "plt.plot(dataset)\n",
        "plt.title('Line of Equation', equation_of_line)\n",
        "plt.xlabel('x', color='#1C2833')\n",
        "plt.ylabel('y', color='#1C2833')\n",
        "plt.legend(loc='best')\n",
        "plt.grid()\n",
        "plt.show()"
      ],
      "outputs": [
        {
          "output_type": "display_data",
          "data": {
            "image/png": "[encoded data removed]",
            "text/plain": "<Figure size 1152x576 with 1 Axes>"
          },
          "metadata": {
            "needs_background": "light"
          }
        }
      ],
      "execution_count": 28,
      "metadata": {
        "collapsed": true,
        "jupyter": {
          "source_hidden": false,
          "outputs_hidden": false
        },
        "nteract": {
          "transient": {
            "deleting": false
          }
        },
        "execution": {
          "iopub.status.busy": "2020-09-29T01:47:06.143Z",
          "iopub.execute_input": "2020-09-29T01:47:06.153Z",
          "shell.execute_reply": "2020-09-29T01:47:06.375Z",
          "iopub.status.idle": "2020-09-29T01:47:06.360Z"
        }
      }
    }
  ],
  "metadata": {
    "kernel_info": {
      "name": "python3"
    },
    "language_info": {
      "name": "python",
      "codemirror_mode": {
        "version": 3,
        "name": "ipython"
      },
      "pygments_lexer": "ipython3",
      "version": "3.5.5",
      "nbconvert_exporter": "python",
      "file_extension": ".py",
      "mimetype": "text/x-python"
    },
    "kernelspec": {
      "argv": [
        "C:\\Users\\Tin Hang\\Anaconda3\\envs\\py35\\python.exe",
        "-m",
        "ipykernel_launcher",
        "-f",
        "{connection_file}"
      ],
      "display_name": "Python 3",
      "language": "python",
      "name": "python3"
    },
    "nteract": {
      "version": "0.25.0"
    }
  },
  "nbformat": 4,
  "nbformat_minor": 0
}