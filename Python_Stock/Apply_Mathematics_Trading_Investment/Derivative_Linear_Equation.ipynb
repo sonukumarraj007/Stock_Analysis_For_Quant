{
  "cells": [
    {
      "cell_type": "markdown",
      "source": [
        "# Derivative Linear Equation Stock Data"
      ],
      "metadata": {
        "nteract": {
          "transient": {
            "deleting": false
          }
        }
      }
    },
    {
      "cell_type": "code",
      "source": [
        "import numpy as np\n",
        "import matplotlib.pyplot as plt\n",
        "import seaborn as sns\n",
        "import pandas as pd\n",
        "\n",
        "import warnings\n",
        "warnings.filterwarnings(\"ignore\") \n",
        "\n",
        "# yfinance is used to fetch data \n",
        "import yfinance as yf\n",
        "yf.pdr_override()"
      ],
      "outputs": [],
      "execution_count": 1,
      "metadata": {
        "collapsed": true,
        "jupyter": {
          "source_hidden": false,
          "outputs_hidden": false
        },
        "nteract": {
          "transient": {
            "deleting": false
          }
        },
        "execution": {
          "iopub.status.busy": "2020-10-01T02:28:33.847Z",
          "iopub.execute_input": "2020-10-01T02:28:33.857Z",
          "iopub.status.idle": "2020-10-01T02:28:35.020Z",
          "shell.execute_reply": "2020-10-01T02:28:35.062Z"
        }
      }
    },
    {
      "cell_type": "code",
      "source": [
        "# input\n",
        "symbol = 'AMD'\n",
        "start = '2017-01-01'\n",
        "end = '2019-01-01'\n",
        "\n",
        "# Read data \n",
        "dataset = yf.download(symbol,start,end)['Adj Close']\n",
        "\n",
        "# View Columns\n",
        "dataset.head()"
      ],
      "outputs": [
        {
          "output_type": "stream",
          "name": "stdout",
          "text": [
            "[*********************100%***********************]  1 of 1 completed\n"
          ]
        },
        {
          "output_type": "execute_result",
          "execution_count": 2,
          "data": {
            "text/plain": "Date\n2017-01-03    11.43\n2017-01-04    11.43\n2017-01-05    11.24\n2017-01-06    11.32\n2017-01-09    11.49\nName: Adj Close, dtype: float64"
          },
          "metadata": {}
        }
      ],
      "execution_count": 2,
      "metadata": {
        "collapsed": true,
        "jupyter": {
          "source_hidden": false,
          "outputs_hidden": false
        },
        "nteract": {
          "transient": {
            "deleting": false
          }
        },
        "execution": {
          "iopub.status.busy": "2020-10-01T02:28:35.037Z",
          "iopub.execute_input": "2020-10-01T02:28:35.046Z",
          "iopub.status.idle": "2020-10-01T02:28:36.343Z",
          "shell.execute_reply": "2020-10-01T02:28:37.026Z"
        }
      }
    },
    {
      "cell_type": "code",
      "source": [
        "df = dataset.reset_index()"
      ],
      "outputs": [],
      "execution_count": 3,
      "metadata": {
        "collapsed": true,
        "jupyter": {
          "source_hidden": false,
          "outputs_hidden": false
        },
        "nteract": {
          "transient": {
            "deleting": false
          }
        },
        "execution": {
          "iopub.status.busy": "2020-10-01T02:28:36.360Z",
          "iopub.execute_input": "2020-10-01T02:28:36.375Z",
          "iopub.status.idle": "2020-10-01T02:28:36.397Z",
          "shell.execute_reply": "2020-10-01T02:28:37.035Z"
        }
      }
    },
    {
      "cell_type": "code",
      "source": [
        "df.head()"
      ],
      "outputs": [
        {
          "output_type": "execute_result",
          "execution_count": 4,
          "data": {
            "text/html": "<div>\n<style scoped>\n    .dataframe tbody tr th:only-of-type {\n        vertical-align: middle;\n    }\n\n    .dataframe tbody tr th {\n        vertical-align: top;\n    }\n\n    .dataframe thead th {\n        text-align: right;\n    }\n</style>\n<table border=\"1\" class=\"dataframe\">\n  <thead>\n    <tr style=\"text-align: right;\">\n      <th></th>\n      <th>Date</th>\n      <th>Adj Close</th>\n    </tr>\n  </thead>\n  <tbody>\n    <tr>\n      <th>0</th>\n      <td>2017-01-03</td>\n      <td>11.43</td>\n    </tr>\n    <tr>\n      <th>1</th>\n      <td>2017-01-04</td>\n      <td>11.43</td>\n    </tr>\n    <tr>\n      <th>2</th>\n      <td>2017-01-05</td>\n      <td>11.24</td>\n    </tr>\n    <tr>\n      <th>3</th>\n      <td>2017-01-06</td>\n      <td>11.32</td>\n    </tr>\n    <tr>\n      <th>4</th>\n      <td>2017-01-09</td>\n      <td>11.49</td>\n    </tr>\n  </tbody>\n</table>\n</div>",
            "text/plain": "        Date  Adj Close\n0 2017-01-03      11.43\n1 2017-01-04      11.43\n2 2017-01-05      11.24\n3 2017-01-06      11.32\n4 2017-01-09      11.49"
          },
          "metadata": {}
        }
      ],
      "execution_count": 4,
      "metadata": {
        "collapsed": true,
        "jupyter": {
          "source_hidden": false,
          "outputs_hidden": false
        },
        "nteract": {
          "transient": {
            "deleting": false
          }
        },
        "execution": {
          "iopub.status.busy": "2020-10-01T02:28:36.420Z",
          "iopub.execute_input": "2020-10-01T02:28:36.433Z",
          "iopub.status.idle": "2020-10-01T02:28:36.465Z",
          "shell.execute_reply": "2020-10-01T02:28:37.042Z"
        }
      }
    },
    {
      "cell_type": "code",
      "source": [
        "df.tail()"
      ],
      "outputs": [
        {
          "output_type": "execute_result",
          "execution_count": 5,
          "data": {
            "text/html": "<div>\n<style scoped>\n    .dataframe tbody tr th:only-of-type {\n        vertical-align: middle;\n    }\n\n    .dataframe tbody tr th {\n        vertical-align: top;\n    }\n\n    .dataframe thead th {\n        text-align: right;\n    }\n</style>\n<table border=\"1\" class=\"dataframe\">\n  <thead>\n    <tr style=\"text-align: right;\">\n      <th></th>\n      <th>Date</th>\n      <th>Adj Close</th>\n    </tr>\n  </thead>\n  <tbody>\n    <tr>\n      <th>497</th>\n      <td>2018-12-24</td>\n      <td>16.650000</td>\n    </tr>\n    <tr>\n      <th>498</th>\n      <td>2018-12-26</td>\n      <td>17.900000</td>\n    </tr>\n    <tr>\n      <th>499</th>\n      <td>2018-12-27</td>\n      <td>17.490000</td>\n    </tr>\n    <tr>\n      <th>500</th>\n      <td>2018-12-28</td>\n      <td>17.820000</td>\n    </tr>\n    <tr>\n      <th>501</th>\n      <td>2018-12-31</td>\n      <td>18.459999</td>\n    </tr>\n  </tbody>\n</table>\n</div>",
            "text/plain": "          Date  Adj Close\n497 2018-12-24  16.650000\n498 2018-12-26  17.900000\n499 2018-12-27  17.490000\n500 2018-12-28  17.820000\n501 2018-12-31  18.459999"
          },
          "metadata": {}
        }
      ],
      "execution_count": 5,
      "metadata": {
        "collapsed": true,
        "jupyter": {
          "source_hidden": false,
          "outputs_hidden": false
        },
        "nteract": {
          "transient": {
            "deleting": false
          }
        },
        "execution": {
          "iopub.status.busy": "2020-10-01T02:28:36.483Z",
          "iopub.execute_input": "2020-10-01T02:28:36.493Z",
          "iopub.status.idle": "2020-10-01T02:28:36.514Z",
          "shell.execute_reply": "2020-10-01T02:28:37.048Z"
        }
      }
    },
    {
      "cell_type": "code",
      "source": [
        "max_p = df['Adj Close'].max()\n",
        "min_p = df['Adj Close'].min()\n",
        "avg_p = df['Adj Close'].mean()"
      ],
      "outputs": [],
      "execution_count": 6,
      "metadata": {
        "collapsed": true,
        "jupyter": {
          "source_hidden": false,
          "outputs_hidden": false
        },
        "nteract": {
          "transient": {
            "deleting": false
          }
        },
        "execution": {
          "iopub.status.busy": "2020-10-01T02:28:36.528Z",
          "iopub.execute_input": "2020-10-01T02:28:36.537Z",
          "iopub.status.idle": "2020-10-01T02:28:36.552Z",
          "shell.execute_reply": "2020-10-01T02:28:37.053Z"
        }
      }
    },
    {
      "cell_type": "code",
      "source": [
        "data = df.drop(['Date'], axis=1)\n",
        "data"
      ],
      "outputs": [
        {
          "output_type": "execute_result",
          "execution_count": 7,
          "data": {
            "text/html": "<div>\n<style scoped>\n    .dataframe tbody tr th:only-of-type {\n        vertical-align: middle;\n    }\n\n    .dataframe tbody tr th {\n        vertical-align: top;\n    }\n\n    .dataframe thead th {\n        text-align: right;\n    }\n</style>\n<table border=\"1\" class=\"dataframe\">\n  <thead>\n    <tr style=\"text-align: right;\">\n      <th></th>\n      <th>Adj Close</th>\n    </tr>\n  </thead>\n  <tbody>\n    <tr>\n      <th>0</th>\n      <td>11.430000</td>\n    </tr>\n    <tr>\n      <th>1</th>\n      <td>11.430000</td>\n    </tr>\n    <tr>\n      <th>2</th>\n      <td>11.240000</td>\n    </tr>\n    <tr>\n      <th>3</th>\n      <td>11.320000</td>\n    </tr>\n    <tr>\n      <th>4</th>\n      <td>11.490000</td>\n    </tr>\n    <tr>\n      <th>5</th>\n      <td>11.440000</td>\n    </tr>\n    <tr>\n      <th>6</th>\n      <td>11.200000</td>\n    </tr>\n    <tr>\n      <th>7</th>\n      <td>10.760000</td>\n    </tr>\n    <tr>\n      <th>8</th>\n      <td>10.580000</td>\n    </tr>\n    <tr>\n      <th>9</th>\n      <td>9.820000</td>\n    </tr>\n    <tr>\n      <th>10</th>\n      <td>9.880000</td>\n    </tr>\n    <tr>\n      <th>11</th>\n      <td>9.770000</td>\n    </tr>\n    <tr>\n      <th>12</th>\n      <td>9.750000</td>\n    </tr>\n    <tr>\n      <th>13</th>\n      <td>9.910000</td>\n    </tr>\n    <tr>\n      <th>14</th>\n      <td>10.440000</td>\n    </tr>\n    <tr>\n      <th>15</th>\n      <td>10.350000</td>\n    </tr>\n    <tr>\n      <th>16</th>\n      <td>10.520000</td>\n    </tr>\n    <tr>\n      <th>17</th>\n      <td>10.670000</td>\n    </tr>\n    <tr>\n      <th>18</th>\n      <td>10.610000</td>\n    </tr>\n    <tr>\n      <th>19</th>\n      <td>10.370000</td>\n    </tr>\n    <tr>\n      <th>20</th>\n      <td>12.060000</td>\n    </tr>\n    <tr>\n      <th>21</th>\n      <td>12.280000</td>\n    </tr>\n    <tr>\n      <th>22</th>\n      <td>12.240000</td>\n    </tr>\n    <tr>\n      <th>23</th>\n      <td>13.630000</td>\n    </tr>\n    <tr>\n      <th>24</th>\n      <td>13.290000</td>\n    </tr>\n    <tr>\n      <th>25</th>\n      <td>13.560000</td>\n    </tr>\n    <tr>\n      <th>26</th>\n      <td>13.420000</td>\n    </tr>\n    <tr>\n      <th>27</th>\n      <td>13.580000</td>\n    </tr>\n    <tr>\n      <th>28</th>\n      <td>13.490000</td>\n    </tr>\n    <tr>\n      <th>29</th>\n      <td>13.260000</td>\n    </tr>\n    <tr>\n      <th>...</th>\n      <td>...</td>\n    </tr>\n    <tr>\n      <th>472</th>\n      <td>21.490000</td>\n    </tr>\n    <tr>\n      <th>473</th>\n      <td>20.660000</td>\n    </tr>\n    <tr>\n      <th>474</th>\n      <td>19.110001</td>\n    </tr>\n    <tr>\n      <th>475</th>\n      <td>19.209999</td>\n    </tr>\n    <tr>\n      <th>476</th>\n      <td>18.730000</td>\n    </tr>\n    <tr>\n      <th>477</th>\n      <td>19.379999</td>\n    </tr>\n    <tr>\n      <th>478</th>\n      <td>20.080000</td>\n    </tr>\n    <tr>\n      <th>479</th>\n      <td>21.049999</td>\n    </tr>\n    <tr>\n      <th>480</th>\n      <td>21.340000</td>\n    </tr>\n    <tr>\n      <th>481</th>\n      <td>21.430000</td>\n    </tr>\n    <tr>\n      <th>482</th>\n      <td>21.299999</td>\n    </tr>\n    <tr>\n      <th>483</th>\n      <td>23.709999</td>\n    </tr>\n    <tr>\n      <th>484</th>\n      <td>21.120001</td>\n    </tr>\n    <tr>\n      <th>485</th>\n      <td>21.299999</td>\n    </tr>\n    <tr>\n      <th>486</th>\n      <td>19.459999</td>\n    </tr>\n    <tr>\n      <th>487</th>\n      <td>19.990000</td>\n    </tr>\n    <tr>\n      <th>488</th>\n      <td>19.980000</td>\n    </tr>\n    <tr>\n      <th>489</th>\n      <td>20.480000</td>\n    </tr>\n    <tr>\n      <th>490</th>\n      <td>19.860001</td>\n    </tr>\n    <tr>\n      <th>491</th>\n      <td>19.900000</td>\n    </tr>\n    <tr>\n      <th>492</th>\n      <td>18.830000</td>\n    </tr>\n    <tr>\n      <th>493</th>\n      <td>19.500000</td>\n    </tr>\n    <tr>\n      <th>494</th>\n      <td>18.160000</td>\n    </tr>\n    <tr>\n      <th>495</th>\n      <td>17.940001</td>\n    </tr>\n    <tr>\n      <th>496</th>\n      <td>16.930000</td>\n    </tr>\n    <tr>\n      <th>497</th>\n      <td>16.650000</td>\n    </tr>\n    <tr>\n      <th>498</th>\n      <td>17.900000</td>\n    </tr>\n    <tr>\n      <th>499</th>\n      <td>17.490000</td>\n    </tr>\n    <tr>\n      <th>500</th>\n      <td>17.820000</td>\n    </tr>\n    <tr>\n      <th>501</th>\n      <td>18.459999</td>\n    </tr>\n  </tbody>\n</table>\n<p>502 rows × 1 columns</p>\n</div>",
            "text/plain": "     Adj Close\n0    11.430000\n1    11.430000\n2    11.240000\n3    11.320000\n4    11.490000\n5    11.440000\n6    11.200000\n7    10.760000\n8    10.580000\n9     9.820000\n10    9.880000\n11    9.770000\n12    9.750000\n13    9.910000\n14   10.440000\n15   10.350000\n16   10.520000\n17   10.670000\n18   10.610000\n19   10.370000\n20   12.060000\n21   12.280000\n22   12.240000\n23   13.630000\n24   13.290000\n25   13.560000\n26   13.420000\n27   13.580000\n28   13.490000\n29   13.260000\n..         ...\n472  21.490000\n473  20.660000\n474  19.110001\n475  19.209999\n476  18.730000\n477  19.379999\n478  20.080000\n479  21.049999\n480  21.340000\n481  21.430000\n482  21.299999\n483  23.709999\n484  21.120001\n485  21.299999\n486  19.459999\n487  19.990000\n488  19.980000\n489  20.480000\n490  19.860001\n491  19.900000\n492  18.830000\n493  19.500000\n494  18.160000\n495  17.940001\n496  16.930000\n497  16.650000\n498  17.900000\n499  17.490000\n500  17.820000\n501  18.459999\n\n[502 rows x 1 columns]"
          },
          "metadata": {}
        }
      ],
      "execution_count": 7,
      "metadata": {
        "collapsed": true,
        "jupyter": {
          "source_hidden": false,
          "outputs_hidden": false
        },
        "nteract": {
          "transient": {
            "deleting": false
          }
        },
        "execution": {
          "iopub.status.busy": "2020-10-01T02:28:36.565Z",
          "iopub.execute_input": "2020-10-01T02:28:36.573Z",
          "iopub.status.idle": "2020-10-01T02:28:36.596Z",
          "shell.execute_reply": "2020-10-01T02:28:37.058Z"
        }
      }
    },
    {
      "cell_type": "code",
      "source": [
        "data = data.reset_index()"
      ],
      "outputs": [],
      "execution_count": 8,
      "metadata": {
        "collapsed": true,
        "jupyter": {
          "source_hidden": false,
          "outputs_hidden": false
        },
        "nteract": {
          "transient": {
            "deleting": false
          }
        },
        "execution": {
          "iopub.status.busy": "2020-10-01T02:28:36.610Z",
          "iopub.execute_input": "2020-10-01T02:28:36.622Z",
          "iopub.status.idle": "2020-10-01T02:28:36.640Z",
          "shell.execute_reply": "2020-10-01T02:28:37.064Z"
        }
      }
    },
    {
      "cell_type": "code",
      "source": [
        "data.as_matrix()"
      ],
      "outputs": [
        {
          "output_type": "execute_result",
          "execution_count": 9,
          "data": {
            "text/plain": "array([[  0.        ,  11.43000031],\n       [  1.        ,  11.43000031],\n       [  2.        ,  11.23999977],\n       ...,\n       [499.        ,  17.48999977],\n       [500.        ,  17.81999969],\n       [501.        ,  18.45999908]])"
          },
          "metadata": {}
        }
      ],
      "execution_count": 9,
      "metadata": {
        "collapsed": true,
        "jupyter": {
          "source_hidden": false,
          "outputs_hidden": false
        },
        "nteract": {
          "transient": {
            "deleting": false
          }
        },
        "execution": {
          "iopub.status.busy": "2020-10-01T02:28:36.656Z",
          "iopub.execute_input": "2020-10-01T02:28:36.665Z",
          "iopub.status.idle": "2020-10-01T02:28:36.686Z",
          "shell.execute_reply": "2020-10-01T02:28:37.875Z"
        }
      }
    },
    {
      "cell_type": "code",
      "source": [
        "from numpy import ones,vstack\n",
        "from numpy.linalg import lstsq"
      ],
      "outputs": [],
      "execution_count": 10,
      "metadata": {
        "collapsed": true,
        "jupyter": {
          "source_hidden": false,
          "outputs_hidden": false
        },
        "nteract": {
          "transient": {
            "deleting": false
          }
        },
        "execution": {
          "iopub.status.busy": "2020-10-01T02:28:36.700Z",
          "iopub.execute_input": "2020-10-01T02:28:36.709Z",
          "iopub.status.idle": "2020-10-01T02:28:36.729Z",
          "shell.execute_reply": "2020-10-01T02:28:37.883Z"
        }
      }
    },
    {
      "cell_type": "code",
      "source": [
        "points = data.as_matrix()"
      ],
      "outputs": [],
      "execution_count": 11,
      "metadata": {
        "collapsed": true,
        "jupyter": {
          "source_hidden": false,
          "outputs_hidden": false
        },
        "nteract": {
          "transient": {
            "deleting": false
          }
        },
        "execution": {
          "iopub.status.busy": "2020-10-01T02:28:36.745Z",
          "iopub.execute_input": "2020-10-01T02:28:36.756Z",
          "iopub.status.idle": "2020-10-01T02:28:36.772Z",
          "shell.execute_reply": "2020-10-01T02:28:37.898Z"
        }
      }
    },
    {
      "cell_type": "code",
      "source": [
        "x_coords, y_coords = zip(*points)\n",
        "A = vstack([x_coords,ones(len(x_coords))]).T\n",
        "m, c = lstsq(A, y_coords)[0]\n"
      ],
      "outputs": [],
      "execution_count": 12,
      "metadata": {
        "collapsed": true,
        "jupyter": {
          "source_hidden": false,
          "outputs_hidden": false
        },
        "nteract": {
          "transient": {
            "deleting": false
          }
        },
        "execution": {
          "iopub.status.busy": "2020-10-01T02:28:36.786Z",
          "iopub.execute_input": "2020-10-01T02:28:36.795Z",
          "iopub.status.idle": "2020-10-01T02:28:36.811Z",
          "shell.execute_reply": "2020-10-01T02:28:37.903Z"
        }
      }
    },
    {
      "cell_type": "code",
      "source": [
        "print(\"Line Equation is y = {m}x + {c}\".format(m=m,c=c))\n"
      ],
      "outputs": [
        {
          "output_type": "stream",
          "name": "stdout",
          "text": [
            "Line Equation is y = 0.021718614923358824x + 9.372574584656498\n"
          ]
        }
      ],
      "execution_count": 13,
      "metadata": {
        "collapsed": true,
        "jupyter": {
          "source_hidden": false,
          "outputs_hidden": false
        },
        "nteract": {
          "transient": {
            "deleting": false
          }
        },
        "execution": {
          "iopub.status.busy": "2020-10-01T02:28:36.828Z",
          "iopub.execute_input": "2020-10-01T02:28:36.839Z",
          "iopub.status.idle": "2020-10-01T02:28:36.860Z",
          "shell.execute_reply": "2020-10-01T02:28:37.907Z"
        }
      }
    },
    {
      "cell_type": "code",
      "source": [
        "equation_of_line = print(\"y = {m}x + {c}\".format(m=m,c=c))\n"
      ],
      "outputs": [
        {
          "output_type": "stream",
          "name": "stdout",
          "text": [
            "y = 0.021718614923358824x + 9.372574584656498\n"
          ]
        }
      ],
      "execution_count": 14,
      "metadata": {
        "collapsed": true,
        "jupyter": {
          "source_hidden": false,
          "outputs_hidden": false
        },
        "nteract": {
          "transient": {
            "deleting": false
          }
        },
        "execution": {
          "iopub.status.busy": "2020-10-01T02:28:36.875Z",
          "iopub.execute_input": "2020-10-01T02:28:36.886Z",
          "iopub.status.idle": "2020-10-01T02:28:36.912Z",
          "shell.execute_reply": "2020-10-01T02:28:37.912Z"
        }
      }
    },
    {
      "cell_type": "code",
      "source": [
        "plt.figure(figsize=(16,8))\n",
        "plt.plot(dataset)\n",
        "plt.title('Line of Equation', equation_of_line)\n",
        "plt.xlabel('x', color='#1C2833')\n",
        "plt.ylabel('y', color='#1C2833')\n",
        "plt.legend(loc='best')\n",
        "plt.grid()\n",
        "plt.show()"
      ],
      "outputs": [
        {
          "output_type": "display_data",
          "data": {
            "text/plain": "<Figure size 1152x576 with 1 Axes>",
            "image/png": "[encoded data removed]"
          },
          "metadata": {
            "needs_background": "light"
          }
        }
      ],
      "execution_count": 15,
      "metadata": {
        "collapsed": true,
        "jupyter": {
          "source_hidden": false,
          "outputs_hidden": false
        },
        "nteract": {
          "transient": {
            "deleting": false
          }
        },
        "execution": {
          "iopub.status.busy": "2020-10-01T02:28:36.927Z",
          "iopub.execute_input": "2020-10-01T02:28:36.938Z",
          "shell.execute_reply": "2020-10-01T02:28:37.917Z",
          "iopub.status.idle": "2020-10-01T02:28:36.960Z"
        }
      }
    },
    {
      "cell_type": "code",
      "source": [
        "from sympy import *"
      ],
      "outputs": [],
      "execution_count": 16,
      "metadata": {
        "collapsed": true,
        "jupyter": {
          "source_hidden": false,
          "outputs_hidden": false
        },
        "nteract": {
          "transient": {
            "deleting": false
          }
        },
        "execution": {
          "iopub.status.busy": "2020-10-01T02:28:36.975Z",
          "iopub.execute_input": "2020-10-01T02:28:36.986Z",
          "iopub.status.idle": "2020-10-01T02:28:37.208Z",
          "shell.execute_reply": "2020-10-01T02:28:37.923Z"
        }
      }
    },
    {
      "cell_type": "code",
      "source": [
        "x = Symbol('x')"
      ],
      "outputs": [],
      "execution_count": 17,
      "metadata": {
        "collapsed": true,
        "jupyter": {
          "source_hidden": false,
          "outputs_hidden": false
        },
        "nteract": {
          "transient": {
            "deleting": false
          }
        },
        "execution": {
          "iopub.status.busy": "2020-10-01T02:28:37.227Z",
          "iopub.execute_input": "2020-10-01T02:28:37.240Z",
          "iopub.status.idle": "2020-10-01T02:28:37.259Z",
          "shell.execute_reply": "2020-10-01T02:28:37.928Z"
        }
      }
    },
    {
      "cell_type": "code",
      "source": [
        "y = 0.021718614923358824*x + 9.372574584656498"
      ],
      "outputs": [],
      "execution_count": 18,
      "metadata": {
        "collapsed": true,
        "jupyter": {
          "source_hidden": false,
          "outputs_hidden": false
        },
        "nteract": {
          "transient": {
            "deleting": false
          }
        },
        "execution": {
          "iopub.status.busy": "2020-10-01T02:28:37.282Z",
          "iopub.execute_input": "2020-10-01T02:28:37.295Z",
          "iopub.status.idle": "2020-10-01T02:28:37.317Z",
          "shell.execute_reply": "2020-10-01T02:28:37.934Z"
        }
      }
    },
    {
      "cell_type": "code",
      "source": [
        "yder = y.diff(x)\n",
        "yder"
      ],
      "outputs": [
        {
          "output_type": "execute_result",
          "execution_count": 19,
          "data": {
            "text/plain": "0.0217186149233588"
          },
          "metadata": {}
        }
      ],
      "execution_count": 19,
      "metadata": {
        "collapsed": true,
        "jupyter": {
          "source_hidden": false,
          "outputs_hidden": false
        },
        "nteract": {
          "transient": {
            "deleting": false
          }
        },
        "execution": {
          "iopub.status.busy": "2020-10-01T02:28:37.334Z",
          "iopub.execute_input": "2020-10-01T02:28:37.346Z",
          "iopub.status.idle": "2020-10-01T02:28:37.376Z",
          "shell.execute_reply": "2020-10-01T02:28:37.940Z"
        }
      }
    },
    {
      "cell_type": "code",
      "source": [
        "y =  0.021718614923358824*(df.index) + 9.372574584656498"
      ],
      "outputs": [],
      "execution_count": 20,
      "metadata": {
        "collapsed": true,
        "jupyter": {
          "source_hidden": false,
          "outputs_hidden": false
        },
        "nteract": {
          "transient": {
            "deleting": false
          }
        },
        "execution": {
          "iopub.status.busy": "2020-10-01T02:28:37.394Z",
          "iopub.execute_input": "2020-10-01T02:28:37.408Z",
          "iopub.status.idle": "2020-10-01T02:28:37.428Z",
          "shell.execute_reply": "2020-10-01T02:28:37.946Z"
        }
      }
    },
    {
      "cell_type": "code",
      "source": [
        "y"
      ],
      "outputs": [
        {
          "output_type": "execute_result",
          "execution_count": 21,
          "data": {
            "text/plain": "Float64Index([ 9.372574584656498,  9.394293199579856,  9.416011814503216,\n               9.437730429426574,  9.459449044349933,  9.481167659273291,\n               9.502886274196651,   9.52460488912001,  9.546323504043368,\n               9.568042118966726,\n              ...\n              20.058133126949038, 20.079851741872396, 20.101570356795754,\n              20.123288971719116, 20.145007586642475, 20.166726201565833,\n               20.18844481648919, 20.210163431412553,  20.23188204633591,\n               20.25360066125927],\n             dtype='float64', length=502)"
          },
          "metadata": {}
        }
      ],
      "execution_count": 21,
      "metadata": {
        "collapsed": true,
        "jupyter": {
          "source_hidden": false,
          "outputs_hidden": false
        },
        "nteract": {
          "transient": {
            "deleting": false
          }
        },
        "execution": {
          "iopub.status.busy": "2020-10-01T02:28:37.444Z",
          "iopub.execute_input": "2020-10-01T02:28:37.456Z",
          "iopub.status.idle": "2020-10-01T02:28:37.482Z",
          "shell.execute_reply": "2020-10-01T02:28:37.954Z"
        }
      }
    },
    {
      "cell_type": "code",
      "source": [
        "pd.DataFrame(y, columns=['Forecast'])"
      ],
      "outputs": [
        {
          "output_type": "execute_result",
          "execution_count": 22,
          "data": {
            "text/html": "<div>\n<style scoped>\n    .dataframe tbody tr th:only-of-type {\n        vertical-align: middle;\n    }\n\n    .dataframe tbody tr th {\n        vertical-align: top;\n    }\n\n    .dataframe thead th {\n        text-align: right;\n    }\n</style>\n<table border=\"1\" class=\"dataframe\">\n  <thead>\n    <tr style=\"text-align: right;\">\n      <th></th>\n      <th>Forecast</th>\n    </tr>\n  </thead>\n  <tbody>\n    <tr>\n      <th>0</th>\n      <td>9.372575</td>\n    </tr>\n    <tr>\n      <th>1</th>\n      <td>9.394293</td>\n    </tr>\n    <tr>\n      <th>2</th>\n      <td>9.416012</td>\n    </tr>\n    <tr>\n      <th>3</th>\n      <td>9.437730</td>\n    </tr>\n    <tr>\n      <th>4</th>\n      <td>9.459449</td>\n    </tr>\n    <tr>\n      <th>5</th>\n      <td>9.481168</td>\n    </tr>\n    <tr>\n      <th>6</th>\n      <td>9.502886</td>\n    </tr>\n    <tr>\n      <th>7</th>\n      <td>9.524605</td>\n    </tr>\n    <tr>\n      <th>8</th>\n      <td>9.546324</td>\n    </tr>\n    <tr>\n      <th>9</th>\n      <td>9.568042</td>\n    </tr>\n    <tr>\n      <th>10</th>\n      <td>9.589761</td>\n    </tr>\n    <tr>\n      <th>11</th>\n      <td>9.611479</td>\n    </tr>\n    <tr>\n      <th>12</th>\n      <td>9.633198</td>\n    </tr>\n    <tr>\n      <th>13</th>\n      <td>9.654917</td>\n    </tr>\n    <tr>\n      <th>14</th>\n      <td>9.676635</td>\n    </tr>\n    <tr>\n      <th>15</th>\n      <td>9.698354</td>\n    </tr>\n    <tr>\n      <th>16</th>\n      <td>9.720072</td>\n    </tr>\n    <tr>\n      <th>17</th>\n      <td>9.741791</td>\n    </tr>\n    <tr>\n      <th>18</th>\n      <td>9.763510</td>\n    </tr>\n    <tr>\n      <th>19</th>\n      <td>9.785228</td>\n    </tr>\n    <tr>\n      <th>20</th>\n      <td>9.806947</td>\n    </tr>\n    <tr>\n      <th>21</th>\n      <td>9.828665</td>\n    </tr>\n    <tr>\n      <th>22</th>\n      <td>9.850384</td>\n    </tr>\n    <tr>\n      <th>23</th>\n      <td>9.872103</td>\n    </tr>\n    <tr>\n      <th>24</th>\n      <td>9.893821</td>\n    </tr>\n    <tr>\n      <th>25</th>\n      <td>9.915540</td>\n    </tr>\n    <tr>\n      <th>26</th>\n      <td>9.937259</td>\n    </tr>\n    <tr>\n      <th>27</th>\n      <td>9.958977</td>\n    </tr>\n    <tr>\n      <th>28</th>\n      <td>9.980696</td>\n    </tr>\n    <tr>\n      <th>29</th>\n      <td>10.002414</td>\n    </tr>\n    <tr>\n      <th>...</th>\n      <td>...</td>\n    </tr>\n    <tr>\n      <th>472</th>\n      <td>19.623761</td>\n    </tr>\n    <tr>\n      <th>473</th>\n      <td>19.645479</td>\n    </tr>\n    <tr>\n      <th>474</th>\n      <td>19.667198</td>\n    </tr>\n    <tr>\n      <th>475</th>\n      <td>19.688917</td>\n    </tr>\n    <tr>\n      <th>476</th>\n      <td>19.710635</td>\n    </tr>\n    <tr>\n      <th>477</th>\n      <td>19.732354</td>\n    </tr>\n    <tr>\n      <th>478</th>\n      <td>19.754073</td>\n    </tr>\n    <tr>\n      <th>479</th>\n      <td>19.775791</td>\n    </tr>\n    <tr>\n      <th>480</th>\n      <td>19.797510</td>\n    </tr>\n    <tr>\n      <th>481</th>\n      <td>19.819228</td>\n    </tr>\n    <tr>\n      <th>482</th>\n      <td>19.840947</td>\n    </tr>\n    <tr>\n      <th>483</th>\n      <td>19.862666</td>\n    </tr>\n    <tr>\n      <th>484</th>\n      <td>19.884384</td>\n    </tr>\n    <tr>\n      <th>485</th>\n      <td>19.906103</td>\n    </tr>\n    <tr>\n      <th>486</th>\n      <td>19.927821</td>\n    </tr>\n    <tr>\n      <th>487</th>\n      <td>19.949540</td>\n    </tr>\n    <tr>\n      <th>488</th>\n      <td>19.971259</td>\n    </tr>\n    <tr>\n      <th>489</th>\n      <td>19.992977</td>\n    </tr>\n    <tr>\n      <th>490</th>\n      <td>20.014696</td>\n    </tr>\n    <tr>\n      <th>491</th>\n      <td>20.036415</td>\n    </tr>\n    <tr>\n      <th>492</th>\n      <td>20.058133</td>\n    </tr>\n    <tr>\n      <th>493</th>\n      <td>20.079852</td>\n    </tr>\n    <tr>\n      <th>494</th>\n      <td>20.101570</td>\n    </tr>\n    <tr>\n      <th>495</th>\n      <td>20.123289</td>\n    </tr>\n    <tr>\n      <th>496</th>\n      <td>20.145008</td>\n    </tr>\n    <tr>\n      <th>497</th>\n      <td>20.166726</td>\n    </tr>\n    <tr>\n      <th>498</th>\n      <td>20.188445</td>\n    </tr>\n    <tr>\n      <th>499</th>\n      <td>20.210163</td>\n    </tr>\n    <tr>\n      <th>500</th>\n      <td>20.231882</td>\n    </tr>\n    <tr>\n      <th>501</th>\n      <td>20.253601</td>\n    </tr>\n  </tbody>\n</table>\n<p>502 rows × 1 columns</p>\n</div>",
            "text/plain": "      Forecast\n0     9.372575\n1     9.394293\n2     9.416012\n3     9.437730\n4     9.459449\n5     9.481168\n6     9.502886\n7     9.524605\n8     9.546324\n9     9.568042\n10    9.589761\n11    9.611479\n12    9.633198\n13    9.654917\n14    9.676635\n15    9.698354\n16    9.720072\n17    9.741791\n18    9.763510\n19    9.785228\n20    9.806947\n21    9.828665\n22    9.850384\n23    9.872103\n24    9.893821\n25    9.915540\n26    9.937259\n27    9.958977\n28    9.980696\n29   10.002414\n..         ...\n472  19.623761\n473  19.645479\n474  19.667198\n475  19.688917\n476  19.710635\n477  19.732354\n478  19.754073\n479  19.775791\n480  19.797510\n481  19.819228\n482  19.840947\n483  19.862666\n484  19.884384\n485  19.906103\n486  19.927821\n487  19.949540\n488  19.971259\n489  19.992977\n490  20.014696\n491  20.036415\n492  20.058133\n493  20.079852\n494  20.101570\n495  20.123289\n496  20.145008\n497  20.166726\n498  20.188445\n499  20.210163\n500  20.231882\n501  20.253601\n\n[502 rows x 1 columns]"
          },
          "metadata": {}
        }
      ],
      "execution_count": 22,
      "metadata": {
        "collapsed": true,
        "jupyter": {
          "source_hidden": false,
          "outputs_hidden": false
        },
        "nteract": {
          "transient": {
            "deleting": false
          }
        },
        "execution": {
          "iopub.status.busy": "2020-10-01T02:28:37.497Z",
          "iopub.execute_input": "2020-10-01T02:28:37.507Z",
          "iopub.status.idle": "2020-10-01T02:28:37.531Z",
          "shell.execute_reply": "2020-10-01T02:28:37.960Z"
        }
      }
    },
    {
      "cell_type": "code",
      "source": [
        "dataset"
      ],
      "outputs": [
        {
          "output_type": "execute_result",
          "execution_count": 23,
          "data": {
            "text/plain": "Date\n2017-01-03    11.430000\n2017-01-04    11.430000\n2017-01-05    11.240000\n2017-01-06    11.320000\n2017-01-09    11.490000\n2017-01-10    11.440000\n2017-01-11    11.200000\n2017-01-12    10.760000\n2017-01-13    10.580000\n2017-01-17     9.820000\n2017-01-18     9.880000\n2017-01-19     9.770000\n2017-01-20     9.750000\n2017-01-23     9.910000\n2017-01-24    10.440000\n2017-01-25    10.350000\n2017-01-26    10.520000\n2017-01-27    10.670000\n2017-01-30    10.610000\n2017-01-31    10.370000\n2017-02-01    12.060000\n2017-02-02    12.280000\n2017-02-03    12.240000\n2017-02-06    13.630000\n2017-02-07    13.290000\n2017-02-08    13.560000\n2017-02-09    13.420000\n2017-02-10    13.580000\n2017-02-13    13.490000\n2017-02-14    13.260000\n                ...    \n2018-11-15    21.490000\n2018-11-16    20.660000\n2018-11-19    19.110001\n2018-11-20    19.209999\n2018-11-21    18.730000\n2018-11-23    19.379999\n2018-11-26    20.080000\n2018-11-27    21.049999\n2018-11-28    21.340000\n2018-11-29    21.430000\n2018-11-30    21.299999\n2018-12-03    23.709999\n2018-12-04    21.120001\n2018-12-06    21.299999\n2018-12-07    19.459999\n2018-12-10    19.990000\n2018-12-11    19.980000\n2018-12-12    20.480000\n2018-12-13    19.860001\n2018-12-14    19.900000\n2018-12-17    18.830000\n2018-12-18    19.500000\n2018-12-19    18.160000\n2018-12-20    17.940001\n2018-12-21    16.930000\n2018-12-24    16.650000\n2018-12-26    17.900000\n2018-12-27    17.490000\n2018-12-28    17.820000\n2018-12-31    18.459999\nName: Adj Close, Length: 502, dtype: float64"
          },
          "metadata": {}
        }
      ],
      "execution_count": 23,
      "metadata": {
        "collapsed": true,
        "jupyter": {
          "source_hidden": false,
          "outputs_hidden": false
        },
        "nteract": {
          "transient": {
            "deleting": false
          }
        },
        "execution": {
          "iopub.status.busy": "2020-10-01T02:28:37.546Z",
          "iopub.execute_input": "2020-10-01T02:28:37.556Z",
          "iopub.status.idle": "2020-10-01T02:28:37.578Z",
          "shell.execute_reply": "2020-10-01T02:28:37.966Z"
        }
      }
    },
    {
      "cell_type": "code",
      "source": [
        "forecast = pd.DataFrame(y, columns=['Forecast'])\n",
        "forecast"
      ],
      "outputs": [
        {
          "output_type": "execute_result",
          "execution_count": 24,
          "data": {
            "text/html": "<div>\n<style scoped>\n    .dataframe tbody tr th:only-of-type {\n        vertical-align: middle;\n    }\n\n    .dataframe tbody tr th {\n        vertical-align: top;\n    }\n\n    .dataframe thead th {\n        text-align: right;\n    }\n</style>\n<table border=\"1\" class=\"dataframe\">\n  <thead>\n    <tr style=\"text-align: right;\">\n      <th></th>\n      <th>Forecast</th>\n    </tr>\n  </thead>\n  <tbody>\n    <tr>\n      <th>0</th>\n      <td>9.372575</td>\n    </tr>\n    <tr>\n      <th>1</th>\n      <td>9.394293</td>\n    </tr>\n    <tr>\n      <th>2</th>\n      <td>9.416012</td>\n    </tr>\n    <tr>\n      <th>3</th>\n      <td>9.437730</td>\n    </tr>\n    <tr>\n      <th>4</th>\n      <td>9.459449</td>\n    </tr>\n    <tr>\n      <th>5</th>\n      <td>9.481168</td>\n    </tr>\n    <tr>\n      <th>6</th>\n      <td>9.502886</td>\n    </tr>\n    <tr>\n      <th>7</th>\n      <td>9.524605</td>\n    </tr>\n    <tr>\n      <th>8</th>\n      <td>9.546324</td>\n    </tr>\n    <tr>\n      <th>9</th>\n      <td>9.568042</td>\n    </tr>\n    <tr>\n      <th>10</th>\n      <td>9.589761</td>\n    </tr>\n    <tr>\n      <th>11</th>\n      <td>9.611479</td>\n    </tr>\n    <tr>\n      <th>12</th>\n      <td>9.633198</td>\n    </tr>\n    <tr>\n      <th>13</th>\n      <td>9.654917</td>\n    </tr>\n    <tr>\n      <th>14</th>\n      <td>9.676635</td>\n    </tr>\n    <tr>\n      <th>15</th>\n      <td>9.698354</td>\n    </tr>\n    <tr>\n      <th>16</th>\n      <td>9.720072</td>\n    </tr>\n    <tr>\n      <th>17</th>\n      <td>9.741791</td>\n    </tr>\n    <tr>\n      <th>18</th>\n      <td>9.763510</td>\n    </tr>\n    <tr>\n      <th>19</th>\n      <td>9.785228</td>\n    </tr>\n    <tr>\n      <th>20</th>\n      <td>9.806947</td>\n    </tr>\n    <tr>\n      <th>21</th>\n      <td>9.828665</td>\n    </tr>\n    <tr>\n      <th>22</th>\n      <td>9.850384</td>\n    </tr>\n    <tr>\n      <th>23</th>\n      <td>9.872103</td>\n    </tr>\n    <tr>\n      <th>24</th>\n      <td>9.893821</td>\n    </tr>\n    <tr>\n      <th>25</th>\n      <td>9.915540</td>\n    </tr>\n    <tr>\n      <th>26</th>\n      <td>9.937259</td>\n    </tr>\n    <tr>\n      <th>27</th>\n      <td>9.958977</td>\n    </tr>\n    <tr>\n      <th>28</th>\n      <td>9.980696</td>\n    </tr>\n    <tr>\n      <th>29</th>\n      <td>10.002414</td>\n    </tr>\n    <tr>\n      <th>...</th>\n      <td>...</td>\n    </tr>\n    <tr>\n      <th>472</th>\n      <td>19.623761</td>\n    </tr>\n    <tr>\n      <th>473</th>\n      <td>19.645479</td>\n    </tr>\n    <tr>\n      <th>474</th>\n      <td>19.667198</td>\n    </tr>\n    <tr>\n      <th>475</th>\n      <td>19.688917</td>\n    </tr>\n    <tr>\n      <th>476</th>\n      <td>19.710635</td>\n    </tr>\n    <tr>\n      <th>477</th>\n      <td>19.732354</td>\n    </tr>\n    <tr>\n      <th>478</th>\n      <td>19.754073</td>\n    </tr>\n    <tr>\n      <th>479</th>\n      <td>19.775791</td>\n    </tr>\n    <tr>\n      <th>480</th>\n      <td>19.797510</td>\n    </tr>\n    <tr>\n      <th>481</th>\n      <td>19.819228</td>\n    </tr>\n    <tr>\n      <th>482</th>\n      <td>19.840947</td>\n    </tr>\n    <tr>\n      <th>483</th>\n      <td>19.862666</td>\n    </tr>\n    <tr>\n      <th>484</th>\n      <td>19.884384</td>\n    </tr>\n    <tr>\n      <th>485</th>\n      <td>19.906103</td>\n    </tr>\n    <tr>\n      <th>486</th>\n      <td>19.927821</td>\n    </tr>\n    <tr>\n      <th>487</th>\n      <td>19.949540</td>\n    </tr>\n    <tr>\n      <th>488</th>\n      <td>19.971259</td>\n    </tr>\n    <tr>\n      <th>489</th>\n      <td>19.992977</td>\n    </tr>\n    <tr>\n      <th>490</th>\n      <td>20.014696</td>\n    </tr>\n    <tr>\n      <th>491</th>\n      <td>20.036415</td>\n    </tr>\n    <tr>\n      <th>492</th>\n      <td>20.058133</td>\n    </tr>\n    <tr>\n      <th>493</th>\n      <td>20.079852</td>\n    </tr>\n    <tr>\n      <th>494</th>\n      <td>20.101570</td>\n    </tr>\n    <tr>\n      <th>495</th>\n      <td>20.123289</td>\n    </tr>\n    <tr>\n      <th>496</th>\n      <td>20.145008</td>\n    </tr>\n    <tr>\n      <th>497</th>\n      <td>20.166726</td>\n    </tr>\n    <tr>\n      <th>498</th>\n      <td>20.188445</td>\n    </tr>\n    <tr>\n      <th>499</th>\n      <td>20.210163</td>\n    </tr>\n    <tr>\n      <th>500</th>\n      <td>20.231882</td>\n    </tr>\n    <tr>\n      <th>501</th>\n      <td>20.253601</td>\n    </tr>\n  </tbody>\n</table>\n<p>502 rows × 1 columns</p>\n</div>",
            "text/plain": "      Forecast\n0     9.372575\n1     9.394293\n2     9.416012\n3     9.437730\n4     9.459449\n5     9.481168\n6     9.502886\n7     9.524605\n8     9.546324\n9     9.568042\n10    9.589761\n11    9.611479\n12    9.633198\n13    9.654917\n14    9.676635\n15    9.698354\n16    9.720072\n17    9.741791\n18    9.763510\n19    9.785228\n20    9.806947\n21    9.828665\n22    9.850384\n23    9.872103\n24    9.893821\n25    9.915540\n26    9.937259\n27    9.958977\n28    9.980696\n29   10.002414\n..         ...\n472  19.623761\n473  19.645479\n474  19.667198\n475  19.688917\n476  19.710635\n477  19.732354\n478  19.754073\n479  19.775791\n480  19.797510\n481  19.819228\n482  19.840947\n483  19.862666\n484  19.884384\n485  19.906103\n486  19.927821\n487  19.949540\n488  19.971259\n489  19.992977\n490  20.014696\n491  20.036415\n492  20.058133\n493  20.079852\n494  20.101570\n495  20.123289\n496  20.145008\n497  20.166726\n498  20.188445\n499  20.210163\n500  20.231882\n501  20.253601\n\n[502 rows x 1 columns]"
          },
          "metadata": {}
        }
      ],
      "execution_count": 24,
      "metadata": {
        "collapsed": true,
        "jupyter": {
          "source_hidden": false,
          "outputs_hidden": false
        },
        "nteract": {
          "transient": {
            "deleting": false
          }
        },
        "execution": {
          "iopub.status.busy": "2020-10-01T02:28:37.592Z",
          "iopub.execute_input": "2020-10-01T02:28:37.601Z",
          "iopub.status.idle": "2020-10-01T02:28:37.626Z",
          "shell.execute_reply": "2020-10-01T02:28:37.971Z"
        }
      }
    },
    {
      "cell_type": "code",
      "source": [
        "df = dataset.reset_index()"
      ],
      "outputs": [],
      "execution_count": 25,
      "metadata": {
        "collapsed": true,
        "jupyter": {
          "source_hidden": false,
          "outputs_hidden": false
        },
        "nteract": {
          "transient": {
            "deleting": false
          }
        },
        "execution": {
          "iopub.status.busy": "2020-10-01T02:28:37.640Z",
          "iopub.execute_input": "2020-10-01T02:28:37.649Z",
          "iopub.status.idle": "2020-10-01T02:28:37.663Z",
          "shell.execute_reply": "2020-10-01T02:28:37.975Z"
        }
      }
    },
    {
      "cell_type": "code",
      "source": [
        "df = df.join(forecast)"
      ],
      "outputs": [],
      "execution_count": 26,
      "metadata": {
        "collapsed": true,
        "jupyter": {
          "source_hidden": false,
          "outputs_hidden": false
        },
        "nteract": {
          "transient": {
            "deleting": false
          }
        },
        "execution": {
          "iopub.status.busy": "2020-10-01T02:28:37.676Z",
          "iopub.execute_input": "2020-10-01T02:28:37.686Z",
          "iopub.status.idle": "2020-10-01T02:28:37.702Z",
          "shell.execute_reply": "2020-10-01T02:28:37.980Z"
        }
      }
    },
    {
      "cell_type": "code",
      "source": [
        "df"
      ],
      "outputs": [
        {
          "output_type": "execute_result",
          "execution_count": 27,
          "data": {
            "text/html": "<div>\n<style scoped>\n    .dataframe tbody tr th:only-of-type {\n        vertical-align: middle;\n    }\n\n    .dataframe tbody tr th {\n        vertical-align: top;\n    }\n\n    .dataframe thead th {\n        text-align: right;\n    }\n</style>\n<table border=\"1\" class=\"dataframe\">\n  <thead>\n    <tr style=\"text-align: right;\">\n      <th></th>\n      <th>Date</th>\n      <th>Adj Close</th>\n      <th>Forecast</th>\n    </tr>\n  </thead>\n  <tbody>\n    <tr>\n      <th>0</th>\n      <td>2017-01-03</td>\n      <td>11.430000</td>\n      <td>9.372575</td>\n    </tr>\n    <tr>\n      <th>1</th>\n      <td>2017-01-04</td>\n      <td>11.430000</td>\n      <td>9.394293</td>\n    </tr>\n    <tr>\n      <th>2</th>\n      <td>2017-01-05</td>\n      <td>11.240000</td>\n      <td>9.416012</td>\n    </tr>\n    <tr>\n      <th>3</th>\n      <td>2017-01-06</td>\n      <td>11.320000</td>\n      <td>9.437730</td>\n    </tr>\n    <tr>\n      <th>4</th>\n      <td>2017-01-09</td>\n      <td>11.490000</td>\n      <td>9.459449</td>\n    </tr>\n    <tr>\n      <th>5</th>\n      <td>2017-01-10</td>\n      <td>11.440000</td>\n      <td>9.481168</td>\n    </tr>\n    <tr>\n      <th>6</th>\n      <td>2017-01-11</td>\n      <td>11.200000</td>\n      <td>9.502886</td>\n    </tr>\n    <tr>\n      <th>7</th>\n      <td>2017-01-12</td>\n      <td>10.760000</td>\n      <td>9.524605</td>\n    </tr>\n    <tr>\n      <th>8</th>\n      <td>2017-01-13</td>\n      <td>10.580000</td>\n      <td>9.546324</td>\n    </tr>\n    <tr>\n      <th>9</th>\n      <td>2017-01-17</td>\n      <td>9.820000</td>\n      <td>9.568042</td>\n    </tr>\n    <tr>\n      <th>10</th>\n      <td>2017-01-18</td>\n      <td>9.880000</td>\n      <td>9.589761</td>\n    </tr>\n    <tr>\n      <th>11</th>\n      <td>2017-01-19</td>\n      <td>9.770000</td>\n      <td>9.611479</td>\n    </tr>\n    <tr>\n      <th>12</th>\n      <td>2017-01-20</td>\n      <td>9.750000</td>\n      <td>9.633198</td>\n    </tr>\n    <tr>\n      <th>13</th>\n      <td>2017-01-23</td>\n      <td>9.910000</td>\n      <td>9.654917</td>\n    </tr>\n    <tr>\n      <th>14</th>\n      <td>2017-01-24</td>\n      <td>10.440000</td>\n      <td>9.676635</td>\n    </tr>\n    <tr>\n      <th>15</th>\n      <td>2017-01-25</td>\n      <td>10.350000</td>\n      <td>9.698354</td>\n    </tr>\n    <tr>\n      <th>16</th>\n      <td>2017-01-26</td>\n      <td>10.520000</td>\n      <td>9.720072</td>\n    </tr>\n    <tr>\n      <th>17</th>\n      <td>2017-01-27</td>\n      <td>10.670000</td>\n      <td>9.741791</td>\n    </tr>\n    <tr>\n      <th>18</th>\n      <td>2017-01-30</td>\n      <td>10.610000</td>\n      <td>9.763510</td>\n    </tr>\n    <tr>\n      <th>19</th>\n      <td>2017-01-31</td>\n      <td>10.370000</td>\n      <td>9.785228</td>\n    </tr>\n    <tr>\n      <th>20</th>\n      <td>2017-02-01</td>\n      <td>12.060000</td>\n      <td>9.806947</td>\n    </tr>\n    <tr>\n      <th>21</th>\n      <td>2017-02-02</td>\n      <td>12.280000</td>\n      <td>9.828665</td>\n    </tr>\n    <tr>\n      <th>22</th>\n      <td>2017-02-03</td>\n      <td>12.240000</td>\n      <td>9.850384</td>\n    </tr>\n    <tr>\n      <th>23</th>\n      <td>2017-02-06</td>\n      <td>13.630000</td>\n      <td>9.872103</td>\n    </tr>\n    <tr>\n      <th>24</th>\n      <td>2017-02-07</td>\n      <td>13.290000</td>\n      <td>9.893821</td>\n    </tr>\n    <tr>\n      <th>25</th>\n      <td>2017-02-08</td>\n      <td>13.560000</td>\n      <td>9.915540</td>\n    </tr>\n    <tr>\n      <th>26</th>\n      <td>2017-02-09</td>\n      <td>13.420000</td>\n      <td>9.937259</td>\n    </tr>\n    <tr>\n      <th>27</th>\n      <td>2017-02-10</td>\n      <td>13.580000</td>\n      <td>9.958977</td>\n    </tr>\n    <tr>\n      <th>28</th>\n      <td>2017-02-13</td>\n      <td>13.490000</td>\n      <td>9.980696</td>\n    </tr>\n    <tr>\n      <th>29</th>\n      <td>2017-02-14</td>\n      <td>13.260000</td>\n      <td>10.002414</td>\n    </tr>\n    <tr>\n      <th>...</th>\n      <td>...</td>\n      <td>...</td>\n      <td>...</td>\n    </tr>\n    <tr>\n      <th>472</th>\n      <td>2018-11-15</td>\n      <td>21.490000</td>\n      <td>19.623761</td>\n    </tr>\n    <tr>\n      <th>473</th>\n      <td>2018-11-16</td>\n      <td>20.660000</td>\n      <td>19.645479</td>\n    </tr>\n    <tr>\n      <th>474</th>\n      <td>2018-11-19</td>\n      <td>19.110001</td>\n      <td>19.667198</td>\n    </tr>\n    <tr>\n      <th>475</th>\n      <td>2018-11-20</td>\n      <td>19.209999</td>\n      <td>19.688917</td>\n    </tr>\n    <tr>\n      <th>476</th>\n      <td>2018-11-21</td>\n      <td>18.730000</td>\n      <td>19.710635</td>\n    </tr>\n    <tr>\n      <th>477</th>\n      <td>2018-11-23</td>\n      <td>19.379999</td>\n      <td>19.732354</td>\n    </tr>\n    <tr>\n      <th>478</th>\n      <td>2018-11-26</td>\n      <td>20.080000</td>\n      <td>19.754073</td>\n    </tr>\n    <tr>\n      <th>479</th>\n      <td>2018-11-27</td>\n      <td>21.049999</td>\n      <td>19.775791</td>\n    </tr>\n    <tr>\n      <th>480</th>\n      <td>2018-11-28</td>\n      <td>21.340000</td>\n      <td>19.797510</td>\n    </tr>\n    <tr>\n      <th>481</th>\n      <td>2018-11-29</td>\n      <td>21.430000</td>\n      <td>19.819228</td>\n    </tr>\n    <tr>\n      <th>482</th>\n      <td>2018-11-30</td>\n      <td>21.299999</td>\n      <td>19.840947</td>\n    </tr>\n    <tr>\n      <th>483</th>\n      <td>2018-12-03</td>\n      <td>23.709999</td>\n      <td>19.862666</td>\n    </tr>\n    <tr>\n      <th>484</th>\n      <td>2018-12-04</td>\n      <td>21.120001</td>\n      <td>19.884384</td>\n    </tr>\n    <tr>\n      <th>485</th>\n      <td>2018-12-06</td>\n      <td>21.299999</td>\n      <td>19.906103</td>\n    </tr>\n    <tr>\n      <th>486</th>\n      <td>2018-12-07</td>\n      <td>19.459999</td>\n      <td>19.927821</td>\n    </tr>\n    <tr>\n      <th>487</th>\n      <td>2018-12-10</td>\n      <td>19.990000</td>\n      <td>19.949540</td>\n    </tr>\n    <tr>\n      <th>488</th>\n      <td>2018-12-11</td>\n      <td>19.980000</td>\n      <td>19.971259</td>\n    </tr>\n    <tr>\n      <th>489</th>\n      <td>2018-12-12</td>\n      <td>20.480000</td>\n      <td>19.992977</td>\n    </tr>\n    <tr>\n      <th>490</th>\n      <td>2018-12-13</td>\n      <td>19.860001</td>\n      <td>20.014696</td>\n    </tr>\n    <tr>\n      <th>491</th>\n      <td>2018-12-14</td>\n      <td>19.900000</td>\n      <td>20.036415</td>\n    </tr>\n    <tr>\n      <th>492</th>\n      <td>2018-12-17</td>\n      <td>18.830000</td>\n      <td>20.058133</td>\n    </tr>\n    <tr>\n      <th>493</th>\n      <td>2018-12-18</td>\n      <td>19.500000</td>\n      <td>20.079852</td>\n    </tr>\n    <tr>\n      <th>494</th>\n      <td>2018-12-19</td>\n      <td>18.160000</td>\n      <td>20.101570</td>\n    </tr>\n    <tr>\n      <th>495</th>\n      <td>2018-12-20</td>\n      <td>17.940001</td>\n      <td>20.123289</td>\n    </tr>\n    <tr>\n      <th>496</th>\n      <td>2018-12-21</td>\n      <td>16.930000</td>\n      <td>20.145008</td>\n    </tr>\n    <tr>\n      <th>497</th>\n      <td>2018-12-24</td>\n      <td>16.650000</td>\n      <td>20.166726</td>\n    </tr>\n    <tr>\n      <th>498</th>\n      <td>2018-12-26</td>\n      <td>17.900000</td>\n      <td>20.188445</td>\n    </tr>\n    <tr>\n      <th>499</th>\n      <td>2018-12-27</td>\n      <td>17.490000</td>\n      <td>20.210163</td>\n    </tr>\n    <tr>\n      <th>500</th>\n      <td>2018-12-28</td>\n      <td>17.820000</td>\n      <td>20.231882</td>\n    </tr>\n    <tr>\n      <th>501</th>\n      <td>2018-12-31</td>\n      <td>18.459999</td>\n      <td>20.253601</td>\n    </tr>\n  </tbody>\n</table>\n<p>502 rows × 3 columns</p>\n</div>",
            "text/plain": "          Date  Adj Close   Forecast\n0   2017-01-03  11.430000   9.372575\n1   2017-01-04  11.430000   9.394293\n2   2017-01-05  11.240000   9.416012\n3   2017-01-06  11.320000   9.437730\n4   2017-01-09  11.490000   9.459449\n5   2017-01-10  11.440000   9.481168\n6   2017-01-11  11.200000   9.502886\n7   2017-01-12  10.760000   9.524605\n8   2017-01-13  10.580000   9.546324\n9   2017-01-17   9.820000   9.568042\n10  2017-01-18   9.880000   9.589761\n11  2017-01-19   9.770000   9.611479\n12  2017-01-20   9.750000   9.633198\n13  2017-01-23   9.910000   9.654917\n14  2017-01-24  10.440000   9.676635\n15  2017-01-25  10.350000   9.698354\n16  2017-01-26  10.520000   9.720072\n17  2017-01-27  10.670000   9.741791\n18  2017-01-30  10.610000   9.763510\n19  2017-01-31  10.370000   9.785228\n20  2017-02-01  12.060000   9.806947\n21  2017-02-02  12.280000   9.828665\n22  2017-02-03  12.240000   9.850384\n23  2017-02-06  13.630000   9.872103\n24  2017-02-07  13.290000   9.893821\n25  2017-02-08  13.560000   9.915540\n26  2017-02-09  13.420000   9.937259\n27  2017-02-10  13.580000   9.958977\n28  2017-02-13  13.490000   9.980696\n29  2017-02-14  13.260000  10.002414\n..         ...        ...        ...\n472 2018-11-15  21.490000  19.623761\n473 2018-11-16  20.660000  19.645479\n474 2018-11-19  19.110001  19.667198\n475 2018-11-20  19.209999  19.688917\n476 2018-11-21  18.730000  19.710635\n477 2018-11-23  19.379999  19.732354\n478 2018-11-26  20.080000  19.754073\n479 2018-11-27  21.049999  19.775791\n480 2018-11-28  21.340000  19.797510\n481 2018-11-29  21.430000  19.819228\n482 2018-11-30  21.299999  19.840947\n483 2018-12-03  23.709999  19.862666\n484 2018-12-04  21.120001  19.884384\n485 2018-12-06  21.299999  19.906103\n486 2018-12-07  19.459999  19.927821\n487 2018-12-10  19.990000  19.949540\n488 2018-12-11  19.980000  19.971259\n489 2018-12-12  20.480000  19.992977\n490 2018-12-13  19.860001  20.014696\n491 2018-12-14  19.900000  20.036415\n492 2018-12-17  18.830000  20.058133\n493 2018-12-18  19.500000  20.079852\n494 2018-12-19  18.160000  20.101570\n495 2018-12-20  17.940001  20.123289\n496 2018-12-21  16.930000  20.145008\n497 2018-12-24  16.650000  20.166726\n498 2018-12-26  17.900000  20.188445\n499 2018-12-27  17.490000  20.210163\n500 2018-12-28  17.820000  20.231882\n501 2018-12-31  18.459999  20.253601\n\n[502 rows x 3 columns]"
          },
          "metadata": {}
        }
      ],
      "execution_count": 27,
      "metadata": {
        "collapsed": true,
        "jupyter": {
          "source_hidden": false,
          "outputs_hidden": false
        },
        "nteract": {
          "transient": {
            "deleting": false
          }
        },
        "execution": {
          "iopub.status.busy": "2020-10-01T02:28:37.718Z",
          "iopub.execute_input": "2020-10-01T02:28:37.727Z",
          "iopub.status.idle": "2020-10-01T02:28:37.751Z",
          "shell.execute_reply": "2020-10-01T02:28:37.985Z"
        }
      }
    },
    {
      "cell_type": "code",
      "source": [
        "plt.figure(figsize=(16,8))\n",
        "plt.plot(df.Date, df['Adj Close'])\n",
        "plt.plot(df.Date, df['Forecast'])\n",
        "plt.title('Line of Equation', equation_of_line)\n",
        "plt.xlabel('Date', color='#1C2833')\n",
        "plt.ylabel('Price', color='#1C2833')\n",
        "plt.legend(loc='best')\n",
        "plt.grid()\n",
        "plt.show()"
      ],
      "outputs": [
        {
          "output_type": "display_data",
          "data": {
            "text/plain": "<Figure size 1152x576 with 1 Axes>",
            "image/png": "[encoded data removed]"
          },
          "metadata": {
            "needs_background": "light"
          }
        }
      ],
      "execution_count": 29,
      "metadata": {
        "collapsed": true,
        "jupyter": {
          "source_hidden": false,
          "outputs_hidden": false
        },
        "nteract": {
          "transient": {
            "deleting": false
          }
        },
        "execution": {
          "iopub.status.busy": "2020-10-01T02:32:01.426Z",
          "iopub.execute_input": "2020-10-01T02:32:01.456Z",
          "iopub.status.idle": "2020-10-01T02:32:01.731Z",
          "shell.execute_reply": "2020-10-01T02:32:01.753Z"
        }
      }
    }
  ],
  "metadata": {
    "kernel_info": {
      "name": "python3"
    },
    "language_info": {
      "file_extension": ".py",
      "codemirror_mode": {
        "name": "ipython",
        "version": 3
      },
      "pygments_lexer": "ipython3",
      "version": "3.5.5",
      "name": "python",
      "nbconvert_exporter": "python",
      "mimetype": "text/x-python"
    },
    "kernelspec": {
      "argv": [
        "C:\\Users\\Tin Hang\\Anaconda3\\envs\\py35\\python.exe",
        "-m",
        "ipykernel_launcher",
        "-f",
        "{connection_file}"
      ],
      "display_name": "Python 3",
      "language": "python",
      "name": "python3"
    },
    "nteract": {
      "version": "0.25.1"
    }
  },
  "nbformat": 4,
  "nbformat_minor": 0
}