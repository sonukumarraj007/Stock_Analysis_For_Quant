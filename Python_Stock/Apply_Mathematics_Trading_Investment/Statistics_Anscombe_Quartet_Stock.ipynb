{
  "cells": [
    {
      "cell_type": "markdown",
      "source": [
        "# Anscombe's Quartet Stock Data"
      ],
      "metadata": {
        "nteract": {
          "transient": {
            "deleting": false
          }
        }
      }
    },
    {
      "cell_type": "code",
      "source": [
        "import numpy as np\n",
        "import matplotlib.pyplot as plt\n",
        "import pandas as pd\n",
        "\n",
        "import warnings\n",
        "warnings.filterwarnings(\"ignore\") \n",
        "\n",
        "# yfinance is used to fetch data \n",
        "import yfinance as yf\n",
        "yf.pdr_override()"
      ],
      "outputs": [],
      "execution_count": 1,
      "metadata": {
        "collapsed": true,
        "jupyter": {
          "source_hidden": false,
          "outputs_hidden": false
        },
        "nteract": {
          "transient": {
            "deleting": false
          }
        },
        "execution": {
          "iopub.status.busy": "2020-12-21T18:40:38.459Z",
          "iopub.execute_input": "2020-12-21T18:40:38.481Z",
          "iopub.status.idle": "2020-12-21T18:40:38.780Z",
          "shell.execute_reply": "2020-12-21T18:40:38.676Z"
        }
      }
    },
    {
      "cell_type": "code",
      "source": [
        "# input\n",
        "symbol = 'AMD'\n",
        "start = '2019-12-01'\n",
        "end = '2020-01-01'\n",
        "\n",
        "# Read data \n",
        "df = yf.download(symbol,start,end)\n",
        "\n",
        "# View Columns\n",
        "df.head()"
      ],
      "outputs": [
        {
          "output_type": "stream",
          "name": "stdout",
          "text": [
            "[*********************100%***********************]  1 of 1 completed\n"
          ]
        },
        {
          "output_type": "execute_result",
          "execution_count": 2,
          "data": {
            "text/plain": "                 Open       High        Low      Close  Adj Close    Volume\nDate                                                                       \n2019-12-02  39.320000  39.410000  38.439999  38.730000  38.730000  35710200\n2019-12-03  37.340000  38.930000  37.150002  38.900002  38.900002  51556400\n2019-12-04  39.380001  39.820000  39.130001  39.689999  39.689999  44299400\n2019-12-05  39.950001  40.220001  39.549999  39.619999  39.619999  35574000\n2019-12-06  40.099998  40.189999  39.560001  39.630001  39.630001  31101400",
            "text/html": "<div>\n<style scoped>\n    .dataframe tbody tr th:only-of-type {\n        vertical-align: middle;\n    }\n\n    .dataframe tbody tr th {\n        vertical-align: top;\n    }\n\n    .dataframe thead th {\n        text-align: right;\n    }\n</style>\n<table border=\"1\" class=\"dataframe\">\n  <thead>\n    <tr style=\"text-align: right;\">\n      <th></th>\n      <th>Open</th>\n      <th>High</th>\n      <th>Low</th>\n      <th>Close</th>\n      <th>Adj Close</th>\n      <th>Volume</th>\n    </tr>\n    <tr>\n      <th>Date</th>\n      <th></th>\n      <th></th>\n      <th></th>\n      <th></th>\n      <th></th>\n      <th></th>\n    </tr>\n  </thead>\n  <tbody>\n    <tr>\n      <th>2019-12-02</th>\n      <td>39.320000</td>\n      <td>39.410000</td>\n      <td>38.439999</td>\n      <td>38.730000</td>\n      <td>38.730000</td>\n      <td>35710200</td>\n    </tr>\n    <tr>\n      <th>2019-12-03</th>\n      <td>37.340000</td>\n      <td>38.930000</td>\n      <td>37.150002</td>\n      <td>38.900002</td>\n      <td>38.900002</td>\n      <td>51556400</td>\n    </tr>\n    <tr>\n      <th>2019-12-04</th>\n      <td>39.380001</td>\n      <td>39.820000</td>\n      <td>39.130001</td>\n      <td>39.689999</td>\n      <td>39.689999</td>\n      <td>44299400</td>\n    </tr>\n    <tr>\n      <th>2019-12-05</th>\n      <td>39.950001</td>\n      <td>40.220001</td>\n      <td>39.549999</td>\n      <td>39.619999</td>\n      <td>39.619999</td>\n      <td>35574000</td>\n    </tr>\n    <tr>\n      <th>2019-12-06</th>\n      <td>40.099998</td>\n      <td>40.189999</td>\n      <td>39.560001</td>\n      <td>39.630001</td>\n      <td>39.630001</td>\n      <td>31101400</td>\n    </tr>\n  </tbody>\n</table>\n</div>"
          },
          "metadata": {}
        }
      ],
      "execution_count": 2,
      "metadata": {
        "collapsed": true,
        "jupyter": {
          "source_hidden": false,
          "outputs_hidden": false
        },
        "nteract": {
          "transient": {
            "deleting": false
          }
        },
        "execution": {
          "iopub.status.busy": "2020-12-21T18:40:38.961Z",
          "iopub.execute_input": "2020-12-21T18:40:39.060Z",
          "iopub.status.idle": "2020-12-21T18:40:40.429Z",
          "shell.execute_reply": "2020-12-21T18:40:45.711Z"
        }
      }
    },
    {
      "cell_type": "code",
      "source": [
        "df = df.astype('float64')\n",
        "df.head()"
      ],
      "outputs": [
        {
          "output_type": "execute_result",
          "execution_count": 3,
          "data": {
            "text/plain": "                 Open       High        Low      Close  Adj Close      Volume\nDate                                                                         \n2019-12-02  39.320000  39.410000  38.439999  38.730000  38.730000  35710200.0\n2019-12-03  37.340000  38.930000  37.150002  38.900002  38.900002  51556400.0\n2019-12-04  39.380001  39.820000  39.130001  39.689999  39.689999  44299400.0\n2019-12-05  39.950001  40.220001  39.549999  39.619999  39.619999  35574000.0\n2019-12-06  40.099998  40.189999  39.560001  39.630001  39.630001  31101400.0",
            "text/html": "<div>\n<style scoped>\n    .dataframe tbody tr th:only-of-type {\n        vertical-align: middle;\n    }\n\n    .dataframe tbody tr th {\n        vertical-align: top;\n    }\n\n    .dataframe thead th {\n        text-align: right;\n    }\n</style>\n<table border=\"1\" class=\"dataframe\">\n  <thead>\n    <tr style=\"text-align: right;\">\n      <th></th>\n      <th>Open</th>\n      <th>High</th>\n      <th>Low</th>\n      <th>Close</th>\n      <th>Adj Close</th>\n      <th>Volume</th>\n    </tr>\n    <tr>\n      <th>Date</th>\n      <th></th>\n      <th></th>\n      <th></th>\n      <th></th>\n      <th></th>\n      <th></th>\n    </tr>\n  </thead>\n  <tbody>\n    <tr>\n      <th>2019-12-02</th>\n      <td>39.320000</td>\n      <td>39.410000</td>\n      <td>38.439999</td>\n      <td>38.730000</td>\n      <td>38.730000</td>\n      <td>35710200.0</td>\n    </tr>\n    <tr>\n      <th>2019-12-03</th>\n      <td>37.340000</td>\n      <td>38.930000</td>\n      <td>37.150002</td>\n      <td>38.900002</td>\n      <td>38.900002</td>\n      <td>51556400.0</td>\n    </tr>\n    <tr>\n      <th>2019-12-04</th>\n      <td>39.380001</td>\n      <td>39.820000</td>\n      <td>39.130001</td>\n      <td>39.689999</td>\n      <td>39.689999</td>\n      <td>44299400.0</td>\n    </tr>\n    <tr>\n      <th>2019-12-05</th>\n      <td>39.950001</td>\n      <td>40.220001</td>\n      <td>39.549999</td>\n      <td>39.619999</td>\n      <td>39.619999</td>\n      <td>35574000.0</td>\n    </tr>\n    <tr>\n      <th>2019-12-06</th>\n      <td>40.099998</td>\n      <td>40.189999</td>\n      <td>39.560001</td>\n      <td>39.630001</td>\n      <td>39.630001</td>\n      <td>31101400.0</td>\n    </tr>\n  </tbody>\n</table>\n</div>"
          },
          "metadata": {}
        }
      ],
      "execution_count": 3,
      "metadata": {
        "collapsed": true,
        "jupyter": {
          "source_hidden": false,
          "outputs_hidden": false
        },
        "nteract": {
          "transient": {
            "deleting": false
          }
        },
        "execution": {
          "iopub.status.busy": "2020-12-21T18:40:40.589Z",
          "iopub.execute_input": "2020-12-21T18:40:40.636Z",
          "iopub.status.idle": "2020-12-21T18:40:40.694Z",
          "shell.execute_reply": "2020-12-21T18:40:45.810Z"
        }
      }
    },
    {
      "cell_type": "code",
      "source": [
        "df = df[['Open', 'High', 'Low', 'Adj Close']]\n",
        "df.head()"
      ],
      "outputs": [
        {
          "output_type": "execute_result",
          "execution_count": 4,
          "data": {
            "text/plain": "                 Open       High        Low  Adj Close\nDate                                                  \n2019-12-02  39.320000  39.410000  38.439999  38.730000\n2019-12-03  37.340000  38.930000  37.150002  38.900002\n2019-12-04  39.380001  39.820000  39.130001  39.689999\n2019-12-05  39.950001  40.220001  39.549999  39.619999\n2019-12-06  40.099998  40.189999  39.560001  39.630001",
            "text/html": "<div>\n<style scoped>\n    .dataframe tbody tr th:only-of-type {\n        vertical-align: middle;\n    }\n\n    .dataframe tbody tr th {\n        vertical-align: top;\n    }\n\n    .dataframe thead th {\n        text-align: right;\n    }\n</style>\n<table border=\"1\" class=\"dataframe\">\n  <thead>\n    <tr style=\"text-align: right;\">\n      <th></th>\n      <th>Open</th>\n      <th>High</th>\n      <th>Low</th>\n      <th>Adj Close</th>\n    </tr>\n    <tr>\n      <th>Date</th>\n      <th></th>\n      <th></th>\n      <th></th>\n      <th></th>\n    </tr>\n  </thead>\n  <tbody>\n    <tr>\n      <th>2019-12-02</th>\n      <td>39.320000</td>\n      <td>39.410000</td>\n      <td>38.439999</td>\n      <td>38.730000</td>\n    </tr>\n    <tr>\n      <th>2019-12-03</th>\n      <td>37.340000</td>\n      <td>38.930000</td>\n      <td>37.150002</td>\n      <td>38.900002</td>\n    </tr>\n    <tr>\n      <th>2019-12-04</th>\n      <td>39.380001</td>\n      <td>39.820000</td>\n      <td>39.130001</td>\n      <td>39.689999</td>\n    </tr>\n    <tr>\n      <th>2019-12-05</th>\n      <td>39.950001</td>\n      <td>40.220001</td>\n      <td>39.549999</td>\n      <td>39.619999</td>\n    </tr>\n    <tr>\n      <th>2019-12-06</th>\n      <td>40.099998</td>\n      <td>40.189999</td>\n      <td>39.560001</td>\n      <td>39.630001</td>\n    </tr>\n  </tbody>\n</table>\n</div>"
          },
          "metadata": {}
        }
      ],
      "execution_count": 4,
      "metadata": {
        "collapsed": true,
        "jupyter": {
          "source_hidden": false,
          "outputs_hidden": false
        },
        "nteract": {
          "transient": {
            "deleting": false
          }
        },
        "execution": {
          "iopub.status.busy": "2020-12-21T18:40:40.731Z",
          "iopub.execute_input": "2020-12-21T18:40:40.754Z",
          "iopub.status.idle": "2020-12-21T18:40:40.808Z",
          "shell.execute_reply": "2020-12-21T18:40:45.856Z"
        }
      }
    },
    {
      "cell_type": "code",
      "source": [
        "df.shape"
      ],
      "outputs": [
        {
          "output_type": "execute_result",
          "execution_count": 5,
          "data": {
            "text/plain": "(21, 4)"
          },
          "metadata": {}
        }
      ],
      "execution_count": 5,
      "metadata": {
        "collapsed": true,
        "jupyter": {
          "source_hidden": false,
          "outputs_hidden": false
        },
        "nteract": {
          "transient": {
            "deleting": false
          }
        },
        "execution": {
          "iopub.status.busy": "2020-12-21T18:40:40.859Z",
          "iopub.execute_input": "2020-12-21T18:40:40.954Z",
          "iopub.status.idle": "2020-12-21T18:40:41.042Z",
          "shell.execute_reply": "2020-12-21T18:40:45.899Z"
        }
      }
    },
    {
      "cell_type": "code",
      "source": [
        "for i in df.values:\n",
        "  print(np.array(i))"
      ],
      "outputs": [
        {
          "output_type": "stream",
          "name": "stdout",
          "text": [
            "[39.31999969 39.40999985 38.43999863 38.72999954]\n",
            "[37.34000015 38.93000031 37.15000153 38.90000153]\n",
            "[39.38000107 39.81999969 39.13000107 39.68999863]\n",
            "[39.95000076 40.22000122 39.54999924 39.61999893]\n",
            "[40.09999847 40.18999863 39.56000137 39.63000107]\n",
            "[39.45999908 39.84000015 38.90999985 38.93000031]\n",
            "[39.20000076 39.72999954 38.81999969 39.43999863]\n",
            "[39.43999863 39.61000061 39.04000092 39.47000122]\n",
            "[39.40000153 42.61999893 39.25       42.59000015]\n",
            "[42.34999847 42.95000076 41.06000137 41.15000153]\n",
            "[41.72999954 42.97999954 41.72999954 42.34999847]\n",
            "[42.50999832 43.11000061 42.15000153 42.77000046]\n",
            "[42.79000092 43.06000137 42.24000168 42.29999924]\n",
            "[42.63000107 43.34000015 42.59999847 42.83000183]\n",
            "[43.43999863 44.25999832 43.25999832 44.15000153]\n",
            "[44.58000183 45.63000107 44.38999939 45.45999908]\n",
            "[46.09999847 46.61000061 45.77000046 46.54000092]\n",
            "[46.99000168 47.31000137 45.65999985 46.63000107]\n",
            "[46.84999847 46.88000107 45.97999954 46.18000031]\n",
            "[46.13999939 46.16999817 44.65999985 45.52000046]\n",
            "[45.06999969 46.09000015 44.91999817 45.86000061]\n"
          ]
        }
      ],
      "execution_count": 6,
      "metadata": {
        "collapsed": true,
        "jupyter": {
          "source_hidden": false,
          "outputs_hidden": false
        },
        "nteract": {
          "transient": {
            "deleting": false
          }
        },
        "execution": {
          "iopub.status.busy": "2020-12-21T18:40:41.082Z",
          "iopub.execute_input": "2020-12-21T18:40:41.119Z",
          "iopub.status.idle": "2020-12-21T18:40:41.200Z",
          "shell.execute_reply": "2020-12-21T18:40:46.001Z"
        }
      }
    },
    {
      "cell_type": "code",
      "source": [
        "quartets = np.array([df['Open'], df['High'], df['Low'], df['Adj Close']])"
      ],
      "outputs": [],
      "execution_count": 7,
      "metadata": {
        "collapsed": true,
        "jupyter": {
          "source_hidden": false,
          "outputs_hidden": false
        },
        "nteract": {
          "transient": {
            "deleting": false
          }
        },
        "execution": {
          "iopub.status.busy": "2020-12-21T18:40:41.287Z",
          "iopub.execute_input": "2020-12-21T18:40:41.322Z",
          "iopub.status.idle": "2020-12-21T18:40:41.369Z",
          "shell.execute_reply": "2020-12-21T18:40:46.108Z"
        }
      }
    },
    {
      "cell_type": "code",
      "source": [
        "quartets"
      ],
      "outputs": [
        {
          "output_type": "execute_result",
          "execution_count": 8,
          "data": {
            "text/plain": "array([[39.31999969, 37.34000015, 39.38000107, 39.95000076, 40.09999847,\n        39.45999908, 39.20000076, 39.43999863, 39.40000153, 42.34999847,\n        41.72999954, 42.50999832, 42.79000092, 42.63000107, 43.43999863,\n        44.58000183, 46.09999847, 46.99000168, 46.84999847, 46.13999939,\n        45.06999969],\n       [39.40999985, 38.93000031, 39.81999969, 40.22000122, 40.18999863,\n        39.84000015, 39.72999954, 39.61000061, 42.61999893, 42.95000076,\n        42.97999954, 43.11000061, 43.06000137, 43.34000015, 44.25999832,\n        45.63000107, 46.61000061, 47.31000137, 46.88000107, 46.16999817,\n        46.09000015],\n       [38.43999863, 37.15000153, 39.13000107, 39.54999924, 39.56000137,\n        38.90999985, 38.81999969, 39.04000092, 39.25      , 41.06000137,\n        41.72999954, 42.15000153, 42.24000168, 42.59999847, 43.25999832,\n        44.38999939, 45.77000046, 45.65999985, 45.97999954, 44.65999985,\n        44.91999817],\n       [38.72999954, 38.90000153, 39.68999863, 39.61999893, 39.63000107,\n        38.93000031, 39.43999863, 39.47000122, 42.59000015, 41.15000153,\n        42.34999847, 42.77000046, 42.29999924, 42.83000183, 44.15000153,\n        45.45999908, 46.54000092, 46.63000107, 46.18000031, 45.52000046,\n        45.86000061]])"
          },
          "metadata": {}
        }
      ],
      "execution_count": 8,
      "metadata": {
        "collapsed": true,
        "jupyter": {
          "source_hidden": false,
          "outputs_hidden": false
        },
        "nteract": {
          "transient": {
            "deleting": false
          }
        },
        "execution": {
          "iopub.status.busy": "2020-12-21T18:40:41.478Z",
          "iopub.execute_input": "2020-12-21T18:40:41.504Z",
          "iopub.status.idle": "2020-12-21T18:40:42.011Z",
          "shell.execute_reply": "2020-12-21T18:40:46.148Z"
        }
      }
    },
    {
      "cell_type": "code",
      "source": [
        "quartets[0]"
      ],
      "outputs": [
        {
          "output_type": "execute_result",
          "execution_count": 9,
          "data": {
            "text/plain": "array([39.31999969, 37.34000015, 39.38000107, 39.95000076, 40.09999847,\n       39.45999908, 39.20000076, 39.43999863, 39.40000153, 42.34999847,\n       41.72999954, 42.50999832, 42.79000092, 42.63000107, 43.43999863,\n       44.58000183, 46.09999847, 46.99000168, 46.84999847, 46.13999939,\n       45.06999969])"
          },
          "metadata": {}
        }
      ],
      "execution_count": 9,
      "metadata": {
        "collapsed": true,
        "jupyter": {
          "source_hidden": false,
          "outputs_hidden": false
        },
        "nteract": {
          "transient": {
            "deleting": false
          }
        },
        "execution": {
          "iopub.status.busy": "2020-12-21T18:40:42.388Z",
          "iopub.execute_input": "2020-12-21T18:40:42.461Z",
          "iopub.status.idle": "2020-12-21T18:40:42.611Z",
          "shell.execute_reply": "2020-12-21T18:40:46.188Z"
        }
      }
    },
    {
      "cell_type": "code",
      "source": [
        "quartets.shape[0]"
      ],
      "outputs": [
        {
          "output_type": "execute_result",
          "execution_count": 10,
          "data": {
            "text/plain": "4"
          },
          "metadata": {}
        }
      ],
      "execution_count": 10,
      "metadata": {
        "collapsed": true,
        "jupyter": {
          "source_hidden": false,
          "outputs_hidden": false
        },
        "nteract": {
          "transient": {
            "deleting": false
          }
        },
        "execution": {
          "iopub.status.busy": "2020-12-21T18:40:42.795Z",
          "iopub.execute_input": "2020-12-21T18:40:42.872Z",
          "iopub.status.idle": "2020-12-21T18:40:42.935Z",
          "shell.execute_reply": "2020-12-21T18:40:46.212Z"
        }
      }
    },
    {
      "cell_type": "code",
      "source": [
        "for quartet in range(quartets.shape[0]):\n",
        "    x = np.array(quartet)\n",
        "    print(x)"
      ],
      "outputs": [
        {
          "output_type": "stream",
          "name": "stdout",
          "text": [
            "0\n",
            "1\n",
            "2\n",
            "3\n"
          ]
        }
      ],
      "execution_count": 11,
      "metadata": {
        "collapsed": true,
        "jupyter": {
          "source_hidden": false,
          "outputs_hidden": false
        },
        "nteract": {
          "transient": {
            "deleting": false
          }
        },
        "execution": {
          "iopub.status.busy": "2020-12-21T18:40:43.037Z",
          "iopub.execute_input": "2020-12-21T18:40:43.110Z",
          "iopub.status.idle": "2020-12-21T18:40:43.186Z",
          "shell.execute_reply": "2020-12-21T18:40:46.233Z"
        }
      }
    },
    {
      "cell_type": "code",
      "source": [
        "for names in df.columns:\n",
        "    print(names)"
      ],
      "outputs": [
        {
          "output_type": "stream",
          "name": "stdout",
          "text": [
            "Open\n",
            "High\n",
            "Low\n",
            "Adj Close\n"
          ]
        }
      ],
      "execution_count": 12,
      "metadata": {
        "collapsed": true,
        "jupyter": {
          "source_hidden": false,
          "outputs_hidden": false
        },
        "nteract": {
          "transient": {
            "deleting": false
          }
        },
        "execution": {
          "iopub.status.busy": "2020-12-21T18:40:43.238Z",
          "iopub.execute_input": "2020-12-21T18:40:43.354Z",
          "iopub.status.idle": "2020-12-21T18:40:43.510Z",
          "shell.execute_reply": "2020-12-21T18:40:46.248Z"
        }
      }
    },
    {
      "cell_type": "code",
      "source": [
        "for name in df.columns: print(name)"
      ],
      "outputs": [
        {
          "output_type": "stream",
          "name": "stdout",
          "text": [
            "Open\n",
            "High\n",
            "Low\n",
            "Adj Close\n"
          ]
        }
      ],
      "execution_count": 13,
      "metadata": {
        "collapsed": true,
        "jupyter": {
          "source_hidden": false,
          "outputs_hidden": false
        },
        "nteract": {
          "transient": {
            "deleting": false
          }
        },
        "execution": {
          "iopub.status.busy": "2020-12-21T18:40:43.752Z",
          "iopub.execute_input": "2020-12-21T18:40:43.871Z",
          "iopub.status.idle": "2020-12-21T18:40:44.189Z",
          "shell.execute_reply": "2020-12-21T18:40:46.260Z"
        }
      }
    },
    {
      "cell_type": "code",
      "source": [
        "for name in df.columns: \n",
        "    print(\"Next\")\n",
        "    print(\"Adj Close vs \", name)"
      ],
      "outputs": [
        {
          "output_type": "stream",
          "name": "stdout",
          "text": [
            "Next\n",
            "Adj Close vs  Open\n",
            "Next\n",
            "Adj Close vs  High\n",
            "Next\n",
            "Adj Close vs  Low\n",
            "Next\n",
            "Adj Close vs  Adj Close\n"
          ]
        }
      ],
      "execution_count": 14,
      "metadata": {
        "collapsed": true,
        "jupyter": {
          "source_hidden": false,
          "outputs_hidden": false
        },
        "nteract": {
          "transient": {
            "deleting": false
          }
        },
        "execution": {
          "iopub.status.busy": "2020-12-21T18:40:44.552Z",
          "iopub.execute_input": "2020-12-21T18:40:44.639Z",
          "iopub.status.idle": "2020-12-21T18:40:44.824Z",
          "shell.execute_reply": "2020-12-21T18:40:46.272Z"
        }
      }
    },
    {
      "cell_type": "code",
      "source": [
        "roman = ['I', 'II', 'III', 'IV']"
      ],
      "outputs": [],
      "execution_count": 15,
      "metadata": {
        "collapsed": true,
        "jupyter": {
          "source_hidden": false,
          "outputs_hidden": false
        },
        "nteract": {
          "transient": {
            "deleting": false
          }
        },
        "execution": {
          "iopub.status.busy": "2020-12-21T18:40:44.912Z",
          "iopub.execute_input": "2020-12-21T18:40:45.018Z",
          "iopub.status.idle": "2020-12-21T18:40:45.109Z",
          "shell.execute_reply": "2020-12-21T18:40:46.284Z"
        }
      }
    },
    {
      "cell_type": "code",
      "source": [
        "%matplotlib inline\n",
        "fig = plt.figure(figsize=(16,12))\n",
        "fig.suptitle(\"Anscombe's Quartets\", fontsize=14)\n",
        "axes = fig.subplots(2, 2, sharex= True, sharey = True)\n",
        "n = len(df.index)\n",
        "\n",
        "for name, quartet in zip(df.columns, range(quartets.shape[0])):\n",
        "    x = quartets[quartet]\n",
        "    y = np.array(df['Adj Close'])\n",
        "    coef = np.polyfit(x, y, 1)\n",
        "    reg_line = np.poly1d(coef)\n",
        "    ax = axes[quartet // 2, quartet % 2]\n",
        "    ax.plot(x, y, 'ro', x, reg_line(x), '--k')\n",
        "    ax.set_title(roman[quartet])\n",
        "   \n",
        "    print(\"Quartet:\", roman[quartet])\n",
        "    print(\"Adj Close vs\", name)\n",
        "    print(\"Mean X:\", x.mean())\n",
        "    print(\"Variance X:\", x.var())\n",
        "    print(\"Mean Y:\", y.mean())\n",
        "    print(\"Variance Y:\", y.var())\n",
        "    print(\"Pearson's correlation coef.:\", round(np.corrcoef(x, y)[0][1], 2))\n",
        "    print('-'*40)\n",
        "\n",
        "plt.show()\n",
        "\n",
        "    "
      ],
      "outputs": [
        {
          "output_type": "stream",
          "name": "stdout",
          "text": [
            "Quartet: I\n",
            "Adj Close vs Open\n",
            "Mean X: 42.13190460205078\n",
            "Variance X: 8.22944332000805\n",
            "Mean Y: 42.32095264253162\n",
            "Variance Y: 7.766971667924468\n",
            "Pearson's correlation coef.: 0.95\n",
            "----------------------------------------\n",
            "Quartet: II\n",
            "Adj Close vs High\n",
            "Mean X: 42.7980953398205\n",
            "Variance X: 7.692720974234099\n",
            "Mean Y: 42.32095264253162\n",
            "Variance Y: 7.766971667924468\n",
            "Pearson's correlation coef.: 0.99\n",
            "----------------------------------------\n",
            "Quartet: III\n",
            "Adj Close vs Low\n",
            "Mean X: 41.631904783703035\n",
            "Variance X: 7.489308791873262\n",
            "Mean Y: 42.32095264253162\n",
            "Variance Y: 7.766971667924468\n",
            "Pearson's correlation coef.: 0.97\n",
            "----------------------------------------\n",
            "Quartet: IV\n",
            "Adj Close vs Adj Close\n",
            "Mean X: 42.32095264253162\n",
            "Variance X: 7.766971667924468\n",
            "Mean Y: 42.32095264253162\n",
            "Variance Y: 7.766971667924468\n",
            "Pearson's correlation coef.: 1.0\n",
            "----------------------------------------\n"
          ]
        },
        {
          "output_type": "display_data",
          "data": {
            "text/plain": "<Figure size 1152x864 with 4 Axes>",
            "image/png": "[encoded data removed]"
          },
          "metadata": {
            "needs_background": "light"
          }
        }
      ],
      "execution_count": 16,
      "metadata": {
        "collapsed": true,
        "jupyter": {
          "source_hidden": false,
          "outputs_hidden": false
        },
        "nteract": {
          "transient": {
            "deleting": false
          }
        },
        "execution": {
          "iopub.status.busy": "2020-12-21T18:40:45.146Z",
          "iopub.execute_input": "2020-12-21T18:40:45.178Z",
          "iopub.status.idle": "2020-12-21T18:40:45.414Z",
          "shell.execute_reply": "2020-12-21T18:40:46.295Z"
        }
      }
    }
  ],
  "metadata": {
    "kernel_info": {
      "name": "python3"
    },
    "language_info": {
      "name": "python",
      "version": "3.6.5",
      "mimetype": "text/x-python",
      "codemirror_mode": {
        "name": "ipython",
        "version": 3
      },
      "pygments_lexer": "ipython3",
      "nbconvert_exporter": "python",
      "file_extension": ".py"
    },
    "kernelspec": {
      "argv": [
        "C:/Users/Tin/Anaconda3\\python.exe",
        "-m",
        "ipykernel_launcher",
        "-f",
        "{connection_file}"
      ],
      "display_name": "Python 3",
      "language": "python",
      "name": "python3"
    },
    "nteract": {
      "version": "0.27.0"
    }
  },
  "nbformat": 4,
  "nbformat_minor": 0
}