{
  "cells": [
    {
      "cell_type": "markdown",
      "source": [
        "# Variance, Covariance, and Correlation"
      ],
      "metadata": {
        "nteract": {
          "transient": {
            "deleting": false
          }
        }
      }
    },
    {
      "cell_type": "code",
      "source": [
        "import numpy as np\n",
        "\n",
        "import warnings\n",
        "warnings.filterwarnings(\"ignore\") \n",
        "\n",
        "# yfinance is used to fetch data \n",
        "import yfinance as yf\n",
        "yf.pdr_override()"
      ],
      "outputs": [],
      "execution_count": 1,
      "metadata": {
        "collapsed": true,
        "jupyter": {
          "source_hidden": false,
          "outputs_hidden": false
        },
        "nteract": {
          "transient": {
            "deleting": false
          }
        },
        "execution": {
          "iopub.status.busy": "2020-12-27T21:37:26.564Z",
          "iopub.execute_input": "2020-12-27T21:37:26.591Z",
          "iopub.status.idle": "2020-12-27T21:37:28.434Z",
          "shell.execute_reply": "2020-12-27T21:37:28.889Z"
        }
      }
    },
    {
      "cell_type": "code",
      "source": [
        "symbol = 'AMD'\n",
        "market = '^GSPC'\n",
        "start = '2018-01-01'\n",
        "end = '2019-01-01'\n",
        "\n",
        "# Read data \n",
        "dataset = yf.download(symbol,start,end)['Adj Close']\n",
        "benchmark = yf.download(market,start,end)['Adj Close']\n",
        "\n",
        "# View Columns\n",
        "dataset.head()\n"
      ],
      "outputs": [
        {
          "output_type": "stream",
          "name": "stdout",
          "text": [
            "[*********************100%***********************]  1 of 1 completed\n",
            "[*********************100%***********************]  1 of 1 completed\n"
          ]
        },
        {
          "output_type": "execute_result",
          "execution_count": 2,
          "data": {
            "text/plain": "Date\n2018-01-02    10.98\n2018-01-03    11.55\n2018-01-04    12.12\n2018-01-05    11.88\n2018-01-08    12.28\nName: Adj Close, dtype: float64"
          },
          "metadata": {}
        }
      ],
      "execution_count": 2,
      "metadata": {
        "collapsed": true,
        "jupyter": {
          "source_hidden": false,
          "outputs_hidden": false
        },
        "nteract": {
          "transient": {
            "deleting": false
          }
        },
        "execution": {
          "iopub.status.busy": "2020-12-27T21:37:28.625Z",
          "iopub.execute_input": "2020-12-27T21:37:28.765Z",
          "iopub.status.idle": "2020-12-27T21:37:31.245Z",
          "shell.execute_reply": "2020-12-27T21:37:34.613Z"
        }
      }
    },
    {
      "cell_type": "code",
      "source": [
        "benchmark.head()"
      ],
      "outputs": [
        {
          "output_type": "execute_result",
          "execution_count": 3,
          "data": {
            "text/plain": "Date\n2018-01-02    2695.810059\n2018-01-03    2713.060059\n2018-01-04    2723.989990\n2018-01-05    2743.149902\n2018-01-08    2747.709961\nName: Adj Close, dtype: float64"
          },
          "metadata": {}
        }
      ],
      "execution_count": 3,
      "metadata": {
        "collapsed": true,
        "jupyter": {
          "source_hidden": false,
          "outputs_hidden": false
        },
        "nteract": {
          "transient": {
            "deleting": false
          }
        },
        "execution": {
          "iopub.status.busy": "2020-12-27T21:37:31.298Z",
          "iopub.execute_input": "2020-12-27T21:37:31.336Z",
          "iopub.status.idle": "2020-12-27T21:37:31.521Z",
          "shell.execute_reply": "2020-12-27T21:37:34.624Z"
        }
      }
    },
    {
      "cell_type": "markdown",
      "source": [
        "### Math for variance"
      ],
      "metadata": {
        "nteract": {
          "transient": {
            "deleting": false
          }
        }
      }
    },
    {
      "cell_type": "code",
      "source": [
        "variance = ((dataset - dataset.mean())**2).sum() / len(dataset)"
      ],
      "outputs": [],
      "execution_count": 4,
      "metadata": {
        "collapsed": true,
        "jupyter": {
          "source_hidden": false,
          "outputs_hidden": false
        },
        "nteract": {
          "transient": {
            "deleting": false
          }
        },
        "execution": {
          "iopub.status.busy": "2020-12-27T21:37:31.566Z",
          "iopub.execute_input": "2020-12-27T21:37:31.590Z",
          "iopub.status.idle": "2020-12-27T21:37:31.624Z",
          "shell.execute_reply": "2020-12-27T21:37:34.634Z"
        }
      }
    },
    {
      "cell_type": "code",
      "source": [
        "print(\"The Variance for \" + symbol + \":\", variance)"
      ],
      "outputs": [
        {
          "output_type": "stream",
          "name": "stdout",
          "text": [
            "The Variance for AMD: 38.0712087425131\n"
          ]
        }
      ],
      "execution_count": 5,
      "metadata": {
        "collapsed": true,
        "jupyter": {
          "source_hidden": false,
          "outputs_hidden": false
        },
        "nteract": {
          "transient": {
            "deleting": false
          }
        },
        "execution": {
          "iopub.status.busy": "2020-12-27T21:37:31.659Z",
          "iopub.execute_input": "2020-12-27T21:37:31.889Z",
          "iopub.status.idle": "2020-12-27T21:37:32.455Z",
          "shell.execute_reply": "2020-12-27T21:37:34.647Z"
        }
      }
    },
    {
      "cell_type": "markdown",
      "source": [
        "### Math for covariance"
      ],
      "metadata": {
        "nteract": {
          "transient": {
            "deleting": false
          }
        }
      }
    },
    {
      "cell_type": "code",
      "source": [
        "covariance = ((dataset - dataset.mean()) * (dataset - dataset.mean())).sum() / (len(dataset) - 1)"
      ],
      "outputs": [],
      "execution_count": 6,
      "metadata": {
        "collapsed": true,
        "jupyter": {
          "source_hidden": false,
          "outputs_hidden": false
        },
        "nteract": {
          "transient": {
            "deleting": false
          }
        },
        "execution": {
          "iopub.status.busy": "2020-12-27T21:37:32.714Z",
          "iopub.execute_input": "2020-12-27T21:37:32.845Z",
          "iopub.status.idle": "2020-12-27T21:37:32.909Z",
          "shell.execute_reply": "2020-12-27T21:37:34.660Z"
        }
      }
    },
    {
      "cell_type": "code",
      "source": [
        "print(\"The Covariance for \" + symbol + \":\", covariance)"
      ],
      "outputs": [
        {
          "output_type": "stream",
          "name": "stdout",
          "text": [
            "The Covariance for AMD: 38.223493577483154\n"
          ]
        }
      ],
      "execution_count": 7,
      "metadata": {
        "collapsed": true,
        "jupyter": {
          "source_hidden": false,
          "outputs_hidden": false
        },
        "nteract": {
          "transient": {
            "deleting": false
          }
        },
        "execution": {
          "iopub.status.busy": "2020-12-27T21:37:33.041Z",
          "iopub.execute_input": "2020-12-27T21:37:33.112Z",
          "iopub.status.idle": "2020-12-27T21:37:33.163Z",
          "shell.execute_reply": "2020-12-27T21:37:34.673Z"
        }
      }
    },
    {
      "cell_type": "markdown",
      "source": [
        "### Math for correlation coefficient"
      ],
      "metadata": {
        "nteract": {
          "transient": {
            "deleting": false
          }
        }
      }
    },
    {
      "cell_type": "code",
      "source": [
        "upper = ((dataset - dataset.mean()) * (benchmark - benchmark.mean())).sum()\n",
        "lower = np.sqrt((((dataset - dataset.mean())**2).sum()) * (((benchmark - benchmark.mean())**2).sum()))\n",
        "\n",
        "correlation_coefficient = upper/lower"
      ],
      "outputs": [],
      "execution_count": 8,
      "metadata": {
        "collapsed": true,
        "jupyter": {
          "source_hidden": false,
          "outputs_hidden": false
        },
        "nteract": {
          "transient": {
            "deleting": false
          }
        },
        "execution": {
          "iopub.status.busy": "2020-12-27T21:37:33.190Z",
          "iopub.execute_input": "2020-12-27T21:37:33.207Z",
          "iopub.status.idle": "2020-12-27T21:37:33.239Z",
          "shell.execute_reply": "2020-12-27T21:37:34.685Z"
        }
      }
    },
    {
      "cell_type": "code",
      "source": [
        "print(\"The Correlation Coefficient for \" + symbol + \":\", correlation_coefficient)"
      ],
      "outputs": [
        {
          "output_type": "stream",
          "name": "stdout",
          "text": [
            "The Correlation Coefficient for AMD: 0.5603999826657514\n"
          ]
        }
      ],
      "execution_count": 9,
      "metadata": {
        "collapsed": true,
        "jupyter": {
          "source_hidden": false,
          "outputs_hidden": false
        },
        "nteract": {
          "transient": {
            "deleting": false
          }
        },
        "execution": {
          "iopub.status.busy": "2020-12-27T21:37:33.375Z",
          "iopub.execute_input": "2020-12-27T21:37:33.407Z",
          "iopub.status.idle": "2020-12-27T21:37:33.466Z",
          "shell.execute_reply": "2020-12-27T21:37:34.696Z"
        }
      }
    },
    {
      "cell_type": "code",
      "source": [
        "r_square = correlation_coefficient**2"
      ],
      "outputs": [],
      "execution_count": 10,
      "metadata": {
        "collapsed": true,
        "jupyter": {
          "source_hidden": false,
          "outputs_hidden": false
        },
        "nteract": {
          "transient": {
            "deleting": false
          }
        },
        "execution": {
          "iopub.status.busy": "2020-12-27T21:37:33.673Z",
          "iopub.execute_input": "2020-12-27T21:37:33.822Z",
          "iopub.status.idle": "2020-12-27T21:37:33.935Z",
          "shell.execute_reply": "2020-12-27T21:37:34.712Z"
        }
      }
    },
    {
      "cell_type": "code",
      "source": [
        "print(\"The R-Square for \" + symbol + \":\", r_square)"
      ],
      "outputs": [
        {
          "output_type": "stream",
          "name": "stdout",
          "text": [
            "The R-Square for AMD: 0.3140481405717745\n"
          ]
        }
      ],
      "execution_count": 11,
      "metadata": {
        "collapsed": true,
        "jupyter": {
          "source_hidden": false,
          "outputs_hidden": false
        },
        "nteract": {
          "transient": {
            "deleting": false
          }
        },
        "execution": {
          "iopub.status.busy": "2020-12-27T21:37:34.241Z",
          "iopub.execute_input": "2020-12-27T21:37:34.346Z",
          "iopub.status.idle": "2020-12-27T21:37:34.551Z",
          "shell.execute_reply": "2020-12-27T21:37:34.725Z"
        }
      }
    }
  ],
  "metadata": {
    "kernel_info": {
      "name": "python3"
    },
    "language_info": {
      "name": "python",
      "version": "3.6.5",
      "mimetype": "text/x-python",
      "codemirror_mode": {
        "name": "ipython",
        "version": 3
      },
      "pygments_lexer": "ipython3",
      "nbconvert_exporter": "python",
      "file_extension": ".py"
    },
    "kernelspec": {
      "argv": [
        "C:/Users/Tin/Anaconda3\\python.exe",
        "-m",
        "ipykernel_launcher",
        "-f",
        "{connection_file}"
      ],
      "display_name": "Python 3",
      "language": "python",
      "name": "python3"
    },
    "nteract": {
      "version": "0.27.0"
    }
  },
  "nbformat": 4,
  "nbformat_minor": 0
}